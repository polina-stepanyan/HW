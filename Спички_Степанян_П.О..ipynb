{
  "nbformat": 4,
  "nbformat_minor": 0,
  "metadata": {
    "colab": {
      "name": "Untitled4.ipynb",
      "provenance": [],
      "collapsed_sections": [],
      "authorship_tag": "ABX9TyMeX3iJNTFh2iiSHcYsbTV0",
      "include_colab_link": true
    },
    "kernelspec": {
      "name": "python3",
      "display_name": "Python 3"
    }
  },
  "cells": [
    {
      "cell_type": "markdown",
      "metadata": {
        "id": "view-in-github",
        "colab_type": "text"
      },
      "source": [
        "<a href=\"https://colab.research.google.com/github/polina-stepanyan/HW/blob/main/%D0%A1%D0%BF%D0%B8%D1%87%D0%BA%D0%B8_%D0%A1%D1%82%D0%B5%D0%BF%D0%B0%D0%BD%D1%8F%D0%BD_%D0%9F.%D0%9E..ipynb\" target=\"_parent\"><img src=\"https://colab.research.google.com/assets/colab-badge.svg\" alt=\"Open In Colab\"/></a>"
      ]
    },
    {
      "cell_type": "code",
      "metadata": {
        "id": "lbzaM0gjJ_oG"
      },
      "source": [
        "\r\n",
        "import matplotlib.pyplot as plt\r\n",
        "import random"
      ],
      "execution_count": 69,
      "outputs": []
    },
    {
      "cell_type": "code",
      "metadata": {
        "colab": {
          "base_uri": "https://localhost:8080/"
        },
        "id": "L6dlW2UhKS3P",
        "outputId": "5de0bac1-a8e2-4028-9c83-fede9a4e4413"
      },
      "source": [
        "a11, a12, Sp = int(input()), int(input()), int(input())\r\n",
        "#Sp - длина спички\r\n",
        "b11, b12, b21, a21, c11, c12, c21, r = 0, 0, 0, 0, 0, 0, 0, 0\r\n",
        "#r - расстояние от одной спички до другой\r\n",
        "\r\n",
        "r = random.randint(1, Sp)\r\n",
        "#задаем верхние координаты\r\n",
        "b11 = a11 + r\r\n",
        "b12, c12 = a12, a12\r\n",
        "c11 = b11 + r\r\n",
        " \r\n",
        "#задаем нижние координаты спичек\r\n",
        "\r\n",
        "a22 = a12 - Sp\r\n",
        "b22 = b12 - Sp\r\n",
        "c22 = c12 - Sp\r\n",
        "\r\n"
      ],
      "execution_count": 70,
      "outputs": [
        {
          "output_type": "stream",
          "text": [
            "4\n",
            "5\n",
            "7\n"
          ],
          "name": "stdout"
        }
      ]
    },
    {
      "cell_type": "code",
      "metadata": {
        "colab": {
          "base_uri": "https://localhost:8080/",
          "height": 315
        },
        "id": "ksFV4gCTLLgo",
        "outputId": "dd435eef-02eb-4d48-bb1d-962607d73dd8"
      },
      "source": [
        "#отрисовка исхоных спичек\r\n",
        "fig = plt.figure()\r\n",
        "fig, ax_1 = plt.subplots()\r\n",
        "ax_1.plot([a11, a11], [a12, a22], color = 'black', linewidth = 2)\r\n",
        "ax_1.plot([b11, b11], [b12, b22], color = 'black', linewidth = 2)\r\n",
        "ax_1.plot([c11, c11], [c12, c22], color = 'black', linewidth = 2)\r\n",
        "ax_1.set(title = 'Исходные данные в задаче')\r\n"
      ],
      "execution_count": 71,
      "outputs": [
        {
          "output_type": "execute_result",
          "data": {
            "text/plain": [
              "[Text(0.5, 1.0, 'Исходные данные в задаче')]"
            ]
          },
          "metadata": {
            "tags": []
          },
          "execution_count": 71
        },
        {
          "output_type": "display_data",
          "data": {
            "text/plain": [
              "<Figure size 432x288 with 0 Axes>"
            ]
          },
          "metadata": {
            "tags": []
          }
        },
        {
          "output_type": "display_data",
          "data": {
            "image/png": "[encoded data removed]",
            "text/plain": [
              "<Figure size 432x288 with 1 Axes>"
            ]
          },
          "metadata": {
            "tags": [],
            "needs_background": "light"
          }
        }
      ]
    },
    {
      "cell_type": "code",
      "metadata": {
        "id": "Zh6HOQaPW_il"
      },
      "source": [
        "#решение задачки (поиск новой точки)\r\n",
        "m, k, a31, a32 = 0, 0, 0, 0\r\n",
        "m = r / 2\r\n",
        "k = ((Sp**2)-(m**2))**(1/2)\r\n",
        "a31 = a11 + m\r\n",
        "a32 = a12 - k"
      ],
      "execution_count": 72,
      "outputs": []
    },
    {
      "cell_type": "code",
      "metadata": {
        "colab": {
          "base_uri": "https://localhost:8080/",
          "height": 298
        },
        "id": "Z7tqcDzdZKY-",
        "outputId": "d8211f9c-4ec8-43e2-ac94-61ded5bfc68e"
      },
      "source": [
        "#отрисовка решения задачки со спичками\r\n",
        "fig = plt.figure()\r\n",
        "fig, ax_2 = plt.subplots()\r\n",
        "ax_2.plot([a11, a11], [a12, a22], color = 'black', linestyle = ':', linewidth = 2)\r\n",
        "ax_2.plot([b11, b11], [b12, b22], color = 'black', linestyle = ':', linewidth = 2)\r\n",
        "ax_2.plot([c11, c11], [c12, c22], color = 'red', linewidth = 5)\r\n",
        "ax_2.plot([a11, a31, b11], [a12, a32, b12], color = 'red', linewidth = 5)\r\n",
        "ax_2.set(title = 'Решение задачи')\r\n",
        "plt.show()\r\n"
      ],
      "execution_count": 73,
      "outputs": [
        {
          "output_type": "display_data",
          "data": {
            "text/plain": [
              "<Figure size 432x288 with 0 Axes>"
            ]
          },
          "metadata": {
            "tags": []
          }
        },
        {
          "output_type": "display_data",
          "data": {
            "image/png": "[encoded data removed]",
            "text/plain": [
              "<Figure size 432x288 with 1 Axes>"
            ]
          },
          "metadata": {
            "tags": [],
            "needs_background": "light"
          }
        }
      ]
    },
    {
      "cell_type": "code",
      "metadata": {
        "id": "usXr3O_zhyz0"
      },
      "source": [
        ""
      ],
      "execution_count": null,
      "outputs": []
    }
  ]
}