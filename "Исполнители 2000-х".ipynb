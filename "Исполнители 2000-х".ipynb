{
  "nbformat": 4,
  "nbformat_minor": 0,
  "metadata": {
    "colab": {
      "name": "Untitled5.ipynb",
      "provenance": [],
      "collapsed_sections": [],
      "authorship_tag": "ABX9TyNVR2fCoCcw7i405aWlcnKR",
      "include_colab_link": true
    },
    "kernelspec": {
      "name": "python3",
      "display_name": "Python 3"
    },
    "widgets": {
      "application/vnd.jupyter.widget-state+json": {
        "3ce4d27ca07143d6a228e171df87a8b9": {
          "model_module": "@jupyter-widgets/controls",
          "model_name": "HBoxModel",
          "state": {
            "_view_name": "HBoxView",
            "_dom_classes": [],
            "_model_name": "HBoxModel",
            "_view_module": "@jupyter-widgets/controls",
            "_model_module_version": "1.5.0",
            "_view_count": null,
            "_view_module_version": "1.5.0",
            "box_style": "",
            "layout": "IPY_MODEL_2273bf71fbcc44e6bd26e5b88295029b",
            "_model_module": "@jupyter-widgets/controls",
            "children": [
              "IPY_MODEL_eeb435a1f13446e99c412ab09672cd40",
              "IPY_MODEL_b743265afc8c4e96872a975f1af9bbbb"
            ]
          }
        },
        "2273bf71fbcc44e6bd26e5b88295029b": {
          "model_module": "@jupyter-widgets/base",
          "model_name": "LayoutModel",
          "state": {
            "_view_name": "LayoutView",
            "grid_template_rows": null,
            "right": null,
            "justify_content": null,
            "_view_module": "@jupyter-widgets/base",
            "overflow": null,
            "_model_module_version": "1.2.0",
            "_view_count": null,
            "flex_flow": null,
            "width": null,
            "min_width": null,
            "border": null,
            "align_items": null,
            "bottom": null,
            "_model_module": "@jupyter-widgets/base",
            "top": null,
            "grid_column": null,
            "overflow_y": null,
            "overflow_x": null,
            "grid_auto_flow": null,
            "grid_area": null,
            "grid_template_columns": null,
            "flex": null,
            "_model_name": "LayoutModel",
            "justify_items": null,
            "grid_row": null,
            "max_height": null,
            "align_content": null,
            "visibility": null,
            "align_self": null,
            "height": null,
            "min_height": null,
            "padding": null,
            "grid_auto_rows": null,
            "grid_gap": null,
            "max_width": null,
            "order": null,
            "_view_module_version": "1.2.0",
            "grid_template_areas": null,
            "object_position": null,
            "object_fit": null,
            "grid_auto_columns": null,
            "margin": null,
            "display": null,
            "left": null
          }
        },
        "eeb435a1f13446e99c412ab09672cd40": {
          "model_module": "@jupyter-widgets/controls",
          "model_name": "FloatProgressModel",
          "state": {
            "_view_name": "ProgressView",
            "style": "IPY_MODEL_af2d14c04a704090ac2336e3cb2d9c2b",
            "_dom_classes": [],
            "description": "100%",
            "_model_name": "FloatProgressModel",
            "bar_style": "",
            "max": 20,
            "_view_module": "@jupyter-widgets/controls",
            "_model_module_version": "1.5.0",
            "value": 20,
            "_view_count": null,
            "_view_module_version": "1.5.0",
            "orientation": "horizontal",
            "min": 0,
            "description_tooltip": null,
            "_model_module": "@jupyter-widgets/controls",
            "layout": "IPY_MODEL_60f05977b6424bce9bcdc4e909392c53"
          }
        },
        "b743265afc8c4e96872a975f1af9bbbb": {
          "model_module": "@jupyter-widgets/controls",
          "model_name": "HTMLModel",
          "state": {
            "_view_name": "HTMLView",
            "style": "IPY_MODEL_5ed8973af40b4b118bb581c0a1d75599",
            "_dom_classes": [],
            "description": "",
            "_model_name": "HTMLModel",
            "placeholder": "​",
            "_view_module": "@jupyter-widgets/controls",
            "_model_module_version": "1.5.0",
            "value": " 20/20 [02:55&lt;00:00,  8.98s/it]",
            "_view_count": null,
            "_view_module_version": "1.5.0",
            "description_tooltip": null,
            "_model_module": "@jupyter-widgets/controls",
            "layout": "IPY_MODEL_3157f4323ffe40f0b59749aa5e8f103b"
          }
        },
        "af2d14c04a704090ac2336e3cb2d9c2b": {
          "model_module": "@jupyter-widgets/controls",
          "model_name": "ProgressStyleModel",
          "state": {
            "_view_name": "StyleView",
            "_model_name": "ProgressStyleModel",
            "description_width": "initial",
            "_view_module": "@jupyter-widgets/base",
            "_model_module_version": "1.5.0",
            "_view_count": null,
            "_view_module_version": "1.2.0",
            "bar_color": null,
            "_model_module": "@jupyter-widgets/controls"
          }
        },
        "60f05977b6424bce9bcdc4e909392c53": {
          "model_module": "@jupyter-widgets/base",
          "model_name": "LayoutModel",
          "state": {
            "_view_name": "LayoutView",
            "grid_template_rows": null,
            "right": null,
            "justify_content": null,
            "_view_module": "@jupyter-widgets/base",
            "overflow": null,
            "_model_module_version": "1.2.0",
            "_view_count": null,
            "flex_flow": null,
            "width": null,
            "min_width": null,
            "border": null,
            "align_items": null,
            "bottom": null,
            "_model_module": "@jupyter-widgets/base",
            "top": null,
            "grid_column": null,
            "overflow_y": null,
            "overflow_x": null,
            "grid_auto_flow": null,
            "grid_area": null,
            "grid_template_columns": null,
            "flex": null,
            "_model_name": "LayoutModel",
            "justify_items": null,
            "grid_row": null,
            "max_height": null,
            "align_content": null,
            "visibility": null,
            "align_self": null,
            "height": null,
            "min_height": null,
            "padding": null,
            "grid_auto_rows": null,
            "grid_gap": null,
            "max_width": null,
            "order": null,
            "_view_module_version": "1.2.0",
            "grid_template_areas": null,
            "object_position": null,
            "object_fit": null,
            "grid_auto_columns": null,
            "margin": null,
            "display": null,
            "left": null
          }
        },
        "5ed8973af40b4b118bb581c0a1d75599": {
          "model_module": "@jupyter-widgets/controls",
          "model_name": "DescriptionStyleModel",
          "state": {
            "_view_name": "StyleView",
            "_model_name": "DescriptionStyleModel",
            "description_width": "",
            "_view_module": "@jupyter-widgets/base",
            "_model_module_version": "1.5.0",
            "_view_count": null,
            "_view_module_version": "1.2.0",
            "_model_module": "@jupyter-widgets/controls"
          }
        },
        "3157f4323ffe40f0b59749aa5e8f103b": {
          "model_module": "@jupyter-widgets/base",
          "model_name": "LayoutModel",
          "state": {
            "_view_name": "LayoutView",
            "grid_template_rows": null,
            "right": null,
            "justify_content": null,
            "_view_module": "@jupyter-widgets/base",
            "overflow": null,
            "_model_module_version": "1.2.0",
            "_view_count": null,
            "flex_flow": null,
            "width": null,
            "min_width": null,
            "border": null,
            "align_items": null,
            "bottom": null,
            "_model_module": "@jupyter-widgets/base",
            "top": null,
            "grid_column": null,
            "overflow_y": null,
            "overflow_x": null,
            "grid_auto_flow": null,
            "grid_area": null,
            "grid_template_columns": null,
            "flex": null,
            "_model_name": "LayoutModel",
            "justify_items": null,
            "grid_row": null,
            "max_height": null,
            "align_content": null,
            "visibility": null,
            "align_self": null,
            "height": null,
            "min_height": null,
            "padding": null,
            "grid_auto_rows": null,
            "grid_gap": null,
            "max_width": null,
            "order": null,
            "_view_module_version": "1.2.0",
            "grid_template_areas": null,
            "object_position": null,
            "object_fit": null,
            "grid_auto_columns": null,
            "margin": null,
            "display": null,
            "left": null
          }
        },
        "c771465584d04e47b426b39d08f6d989": {
          "model_module": "@jupyter-widgets/controls",
          "model_name": "HBoxModel",
          "state": {
            "_view_name": "HBoxView",
            "_dom_classes": [],
            "_model_name": "HBoxModel",
            "_view_module": "@jupyter-widgets/controls",
            "_model_module_version": "1.5.0",
            "_view_count": null,
            "_view_module_version": "1.5.0",
            "box_style": "",
            "layout": "IPY_MODEL_d41a0bc7ed5841fe96230ab84f9dd605",
            "_model_module": "@jupyter-widgets/controls",
            "children": [
              "IPY_MODEL_8e9c67b9c3724eecaf93bc30ecc4d199",
              "IPY_MODEL_b274f357d44c4c2c9609d5dfc2c6b861"
            ]
          }
        },
        "d41a0bc7ed5841fe96230ab84f9dd605": {
          "model_module": "@jupyter-widgets/base",
          "model_name": "LayoutModel",
          "state": {
            "_view_name": "LayoutView",
            "grid_template_rows": null,
            "right": null,
            "justify_content": null,
            "_view_module": "@jupyter-widgets/base",
            "overflow": null,
            "_model_module_version": "1.2.0",
            "_view_count": null,
            "flex_flow": null,
            "width": null,
            "min_width": null,
            "border": null,
            "align_items": null,
            "bottom": null,
            "_model_module": "@jupyter-widgets/base",
            "top": null,
            "grid_column": null,
            "overflow_y": null,
            "overflow_x": null,
            "grid_auto_flow": null,
            "grid_area": null,
            "grid_template_columns": null,
            "flex": null,
            "_model_name": "LayoutModel",
            "justify_items": null,
            "grid_row": null,
            "max_height": null,
            "align_content": null,
            "visibility": null,
            "align_self": null,
            "height": null,
            "min_height": null,
            "padding": null,
            "grid_auto_rows": null,
            "grid_gap": null,
            "max_width": null,
            "order": null,
            "_view_module_version": "1.2.0",
            "grid_template_areas": null,
            "object_position": null,
            "object_fit": null,
            "grid_auto_columns": null,
            "margin": null,
            "display": null,
            "left": null
          }
        },
        "8e9c67b9c3724eecaf93bc30ecc4d199": {
          "model_module": "@jupyter-widgets/controls",
          "model_name": "FloatProgressModel",
          "state": {
            "_view_name": "ProgressView",
            "style": "IPY_MODEL_599bf6fb5116406a9c747db176f80c36",
            "_dom_classes": [],
            "description": "100%",
            "_model_name": "FloatProgressModel",
            "bar_style": "",
            "max": 57,
            "_view_module": "@jupyter-widgets/controls",
            "_model_module_version": "1.5.0",
            "value": 57,
            "_view_count": null,
            "_view_module_version": "1.5.0",
            "orientation": "horizontal",
            "min": 0,
            "description_tooltip": null,
            "_model_module": "@jupyter-widgets/controls",
            "layout": "IPY_MODEL_d7edd90267ec43f38a2ebfb1be630449"
          }
        },
        "b274f357d44c4c2c9609d5dfc2c6b861": {
          "model_module": "@jupyter-widgets/controls",
          "model_name": "HTMLModel",
          "state": {
            "_view_name": "HTMLView",
            "style": "IPY_MODEL_84026e24b0cd4f48bcdf3a538820f05a",
            "_dom_classes": [],
            "description": "",
            "_model_name": "HTMLModel",
            "placeholder": "​",
            "_view_module": "@jupyter-widgets/controls",
            "_model_module_version": "1.5.0",
            "value": " 57/57 [00:00&lt;00:00, 68.34it/s]",
            "_view_count": null,
            "_view_module_version": "1.5.0",
            "description_tooltip": null,
            "_model_module": "@jupyter-widgets/controls",
            "layout": "IPY_MODEL_0378f3f8eb264733aeb5363415056c94"
          }
        },
        "599bf6fb5116406a9c747db176f80c36": {
          "model_module": "@jupyter-widgets/controls",
          "model_name": "ProgressStyleModel",
          "state": {
            "_view_name": "StyleView",
            "_model_name": "ProgressStyleModel",
            "description_width": "initial",
            "_view_module": "@jupyter-widgets/base",
            "_model_module_version": "1.5.0",
            "_view_count": null,
            "_view_module_version": "1.2.0",
            "bar_color": null,
            "_model_module": "@jupyter-widgets/controls"
          }
        },
        "d7edd90267ec43f38a2ebfb1be630449": {
          "model_module": "@jupyter-widgets/base",
          "model_name": "LayoutModel",
          "state": {
            "_view_name": "LayoutView",
            "grid_template_rows": null,
            "right": null,
            "justify_content": null,
            "_view_module": "@jupyter-widgets/base",
            "overflow": null,
            "_model_module_version": "1.2.0",
            "_view_count": null,
            "flex_flow": null,
            "width": null,
            "min_width": null,
            "border": null,
            "align_items": null,
            "bottom": null,
            "_model_module": "@jupyter-widgets/base",
            "top": null,
            "grid_column": null,
            "overflow_y": null,
            "overflow_x": null,
            "grid_auto_flow": null,
            "grid_area": null,
            "grid_template_columns": null,
            "flex": null,
            "_model_name": "LayoutModel",
            "justify_items": null,
            "grid_row": null,
            "max_height": null,
            "align_content": null,
            "visibility": null,
            "align_self": null,
            "height": null,
            "min_height": null,
            "padding": null,
            "grid_auto_rows": null,
            "grid_gap": null,
            "max_width": null,
            "order": null,
            "_view_module_version": "1.2.0",
            "grid_template_areas": null,
            "object_position": null,
            "object_fit": null,
            "grid_auto_columns": null,
            "margin": null,
            "display": null,
            "left": null
          }
        },
        "84026e24b0cd4f48bcdf3a538820f05a": {
          "model_module": "@jupyter-widgets/controls",
          "model_name": "DescriptionStyleModel",
          "state": {
            "_view_name": "StyleView",
            "_model_name": "DescriptionStyleModel",
            "description_width": "",
            "_view_module": "@jupyter-widgets/base",
            "_model_module_version": "1.5.0",
            "_view_count": null,
            "_view_module_version": "1.2.0",
            "_model_module": "@jupyter-widgets/controls"
          }
        },
        "0378f3f8eb264733aeb5363415056c94": {
          "model_module": "@jupyter-widgets/base",
          "model_name": "LayoutModel",
          "state": {
            "_view_name": "LayoutView",
            "grid_template_rows": null,
            "right": null,
            "justify_content": null,
            "_view_module": "@jupyter-widgets/base",
            "overflow": null,
            "_model_module_version": "1.2.0",
            "_view_count": null,
            "flex_flow": null,
            "width": null,
            "min_width": null,
            "border": null,
            "align_items": null,
            "bottom": null,
            "_model_module": "@jupyter-widgets/base",
            "top": null,
            "grid_column": null,
            "overflow_y": null,
            "overflow_x": null,
            "grid_auto_flow": null,
            "grid_area": null,
            "grid_template_columns": null,
            "flex": null,
            "_model_name": "LayoutModel",
            "justify_items": null,
            "grid_row": null,
            "max_height": null,
            "align_content": null,
            "visibility": null,
            "align_self": null,
            "height": null,
            "min_height": null,
            "padding": null,
            "grid_auto_rows": null,
            "grid_gap": null,
            "max_width": null,
            "order": null,
            "_view_module_version": "1.2.0",
            "grid_template_areas": null,
            "object_position": null,
            "object_fit": null,
            "grid_auto_columns": null,
            "margin": null,
            "display": null,
            "left": null
          }
        }
      }
    }
  },
  "cells": [
    {
      "cell_type": "markdown",
      "metadata": {
        "id": "view-in-github",
        "colab_type": "text"
      },
      "source": [
        "<a href=\"https://colab.research.google.com/github/polina-stepanyan/HW/blob/main/%22%D0%98%D1%81%D0%BF%D0%BE%D0%BB%D0%BD%D0%B8%D1%82%D0%B5%D0%BB%D0%B8%202000-%D1%85%22.ipynb\" target=\"_parent\"><img src=\"https://colab.research.google.com/assets/colab-badge.svg\" alt=\"Open In Colab\"/></a>"
      ]
    },
    {
      "cell_type": "code",
      "metadata": {
        "id": "fbxhrtlsvr0L"
      },
      "source": [
        "import warnings\r\n",
        "warnings.simplefilter('ignore')\r\n",
        "import numpy as np\r\n",
        "import pandas as pd\r\n",
        "import matplotlib.pyplot as plt\r\n",
        "from collections import namedtuple, defaultdict"
      ],
      "execution_count": 261,
      "outputs": []
    },
    {
      "cell_type": "code",
      "metadata": {
        "id": "d6za1WZnwOnr"
      },
      "source": [
        "from typing import Optional, Tuple, List, Dict, Union, Set\r\n",
        "import requests\r\n",
        "from json.decoder import JSONDecodeError"
      ],
      "execution_count": 262,
      "outputs": []
    },
    {
      "cell_type": "code",
      "metadata": {
        "colab": {
          "base_uri": "https://localhost:8080/"
        },
        "id": "5tihbwm64a6p",
        "outputId": "55c0112f-f41c-4af4-eea5-bdacc144040f"
      },
      "source": [
        "!pip install razdel\r\n",
        "from razdel.substring import Substring\r\n",
        "from razdel import sentenize, tokenize"
      ],
      "execution_count": 263,
      "outputs": [
        {
          "output_type": "stream",
          "text": [
            "Requirement already satisfied: razdel in /usr/local/lib/python3.6/dist-packages (0.5.0)\n"
          ],
          "name": "stdout"
        }
      ]
    },
    {
      "cell_type": "code",
      "metadata": {
        "id": "ZfJVgLlq5Clm"
      },
      "source": [
        "# функция, позволяющая разворачивать вложенные структуры в плоский вид\r\n",
        "from itertools import chain"
      ],
      "execution_count": 264,
      "outputs": []
    },
    {
      "cell_type": "code",
      "metadata": {
        "colab": {
          "base_uri": "https://localhost:8080/"
        },
        "id": "y5Cj4mmU5Z8b",
        "outputId": "30fee032-964d-4947-fa89-a5511f089ac0"
      },
      "source": [
        "!pip install -U pymorphy2[fast] pymorphy2-dicts-ru\r\n",
        "import pymorphy2"
      ],
      "execution_count": 265,
      "outputs": [
        {
          "output_type": "stream",
          "text": [
            "Requirement already up-to-date: pymorphy2[fast] in /usr/local/lib/python3.6/dist-packages (0.9.1)\n",
            "Requirement already up-to-date: pymorphy2-dicts-ru in /usr/local/lib/python3.6/dist-packages (2.4.417127.4579844)\n",
            "Requirement already satisfied, skipping upgrade: docopt>=0.6 in /usr/local/lib/python3.6/dist-packages (from pymorphy2[fast]) (0.6.2)\n",
            "Requirement already satisfied, skipping upgrade: dawg-python>=0.7.1 in /usr/local/lib/python3.6/dist-packages (from pymorphy2[fast]) (0.7.2)\n",
            "Requirement already satisfied, skipping upgrade: DAWG>=0.8; extra == \"fast\" in /usr/local/lib/python3.6/dist-packages (from pymorphy2[fast]) (0.8.0)\n"
          ],
          "name": "stdout"
        }
      ]
    },
    {
      "cell_type": "code",
      "metadata": {
        "id": "ZrSky2H55r93"
      },
      "source": [
        "from collections import Counter"
      ],
      "execution_count": 266,
      "outputs": []
    },
    {
      "cell_type": "code",
      "metadata": {
        "colab": {
          "base_uri": "https://localhost:8080/"
        },
        "id": "Asqe5G2T6Suo",
        "outputId": "46441c9e-75af-474d-dee5-09e804e14f5d"
      },
      "source": [
        "!pip install fuzzywuzzy python-Levenshtein\r\n",
        "import re\r\n",
        "from fuzzywuzzy import fuzz"
      ],
      "execution_count": 269,
      "outputs": [
        {
          "output_type": "stream",
          "text": [
            "Requirement already satisfied: fuzzywuzzy in /usr/local/lib/python3.6/dist-packages (0.18.0)\n",
            "Requirement already satisfied: python-Levenshtein in /usr/local/lib/python3.6/dist-packages (0.12.1)\n",
            "Requirement already satisfied: setuptools in /usr/local/lib/python3.6/dist-packages (from python-Levenshtein) (51.3.3)\n"
          ],
          "name": "stdout"
        }
      ]
    },
    {
      "cell_type": "code",
      "metadata": {
        "id": "pXfcXydU77-H"
      },
      "source": [
        "from tqdm.auto import tqdm\r\n",
        "import time\r\n",
        "from bs4 import BeautifulSoup"
      ],
      "execution_count": 268,
      "outputs": []
    },
    {
      "cell_type": "code",
      "metadata": {
        "id": "RVKXtrjPFp7G"
      },
      "source": [
        "from string import punctuation\r\n",
        "import networkx as nx"
      ],
      "execution_count": 270,
      "outputs": []
    },
    {
      "cell_type": "code",
      "metadata": {
        "colab": {
          "base_uri": "https://localhost:8080/"
        },
        "id": "2IBCrMM8Xqph",
        "outputId": "38b045ac-9b16-4d33-bafe-46f8fd336e31"
      },
      "source": [
        "import nltk\r\n",
        "nltk.download(\"stopwords\")\r\n",
        "from nltk.corpus import stopwords\r\n",
        "from nltk import ngrams"
      ],
      "execution_count": 271,
      "outputs": [
        {
          "output_type": "stream",
          "text": [
            "[nltk_data] Downloading package stopwords to /root/nltk_data...\n",
            "[nltk_data]   Package stopwords is already up-to-date!\n"
          ],
          "name": "stdout"
        }
      ]
    },
    {
      "cell_type": "code",
      "metadata": {
        "id": "FO3toEWfa1M-"
      },
      "source": [
        "import seaborn as sns"
      ],
      "execution_count": 272,
      "outputs": []
    },
    {
      "cell_type": "code",
      "metadata": {
        "id": "mMc6NbD1dali"
      },
      "source": [
        "from sklearn.dummy import DummyClassifier # \"глупый\" классификтор, возвращающий наиболее частый класс\r\n",
        "from sklearn.naive_bayes import GaussianNB\r\n",
        "from sklearn.model_selection import GroupKFold # схема кросс-валидации с группировкой\r\n",
        "from sklearn.metrics import accuracy_score"
      ],
      "execution_count": 273,
      "outputs": []
    },
    {
      "cell_type": "code",
      "metadata": {
        "id": "UW3jway5v5EN"
      },
      "source": [
        "Song = namedtuple('Song', ['id', 'name', 'text', 'views'])\r\n",
        "Verse = namedtuple('Verse', ['artist', 'text'])"
      ],
      "execution_count": 274,
      "outputs": []
    },
    {
      "cell_type": "code",
      "metadata": {
        "id": "XbsR9cUt3zE4"
      },
      "source": [
        "class Artist:\r\n",
        "\r\n",
        "  def __init__(self, id: int, name: str, songs: List[Song]):\r\n",
        "    self.id = id\r\n",
        "    self.name = name\r\n",
        "    self.songs = songs\r\n",
        "\r\n",
        "    self.top_songs = []\r\n",
        "    self.top_words = []\r\n",
        "    self.unique_words = []\r\n",
        "    self.nunique_words = []\r\n",
        "    self.connections = []\r\n",
        "    self.top_connections = []\r\n",
        "\r\n",
        "  def __repr__(self):\r\n",
        "    header = f\"Artist(id={self.id} name={self.name}) \\n\\nSongs:\\n\"\r\n",
        "    body = '{idx}. Song(id={song.id}, name={song.name}, views={song.views})'\r\n",
        "    songs = [\r\n",
        "        body.format(idx=idx + 1, song=song) \\\r\n",
        "        for idx, song in enumerate(self.songs[:5])\r\n",
        "    ]\r\n",
        "    return header + '\\n'.join(song for song in songs)\r\n",
        "  \r\n",
        "  def add_song(self, song: Song):\r\n",
        "    self.songs.append(song)\r\n",
        "\r\n",
        "  def show_connections(self, library: Library) -> List[Artist]:\r\n",
        "    if not self.connections:\r\n",
        "      connections = library.connections\r\n",
        "      connections = list(\r\n",
        "          filter(lambda connection: connection[0] == self.id, connections)\r\n",
        "      )\r\n",
        "\r\n",
        "      if connections:\r\n",
        "        for connection in connections:\r\n",
        "          _, j = connection\r\n",
        "          self.connections.append(library.get(j))\r\n",
        "\r\n",
        "    return self.connections\r\n",
        "  \r\n",
        "  def most_frequent_connection(self, library: Library, k: int = 5) -> List[Tuple[Artist, int]]:\r\n",
        "    if not self.top_connections:\r\n",
        "      self.show_connections(library)\r\n",
        "      self.top_connections = Counter(self.connections).most_common(k)\r\n",
        "    return self.top_connections\r\n",
        "  \r\n",
        "  def _get_tokens(self, stemming: bool = False) -> List[str]:\r\n",
        "    texts = ''\r\n",
        "    for song in self.songs:\r\n",
        "      for _, verse in song.text.items():\r\n",
        "        \r\n",
        "        # Дадим возможность указывать исполнителя как в виде ссылки на класс,\r\n",
        "        # так и в виде простого текста. Но так как мы не хотим сайдэффектов\r\n",
        "        # (изменения поля Исполнитель в классе куплета после применения данного метода),\r\n",
        "        # то проведем сравнение через переменную.\r\n",
        "        verse_artist = verse.artist\r\n",
        "        if hasattr(verse.artist, 'name'):\r\n",
        "          verse_artist = verse.artist.name\r\n",
        "\r\n",
        "        if self.name == verse_artist:\r\n",
        "          texts += verse.text.lower()\r\n",
        "\r\n",
        "    tokens = tokenize_text(texts)\r\n",
        "\r\n",
        "    if stemming:\r\n",
        "      morph = pymorphy2.MorphAnalyzer(lang='ru')\r\n",
        "      tokens = [morph.parse(token)[0].normal_form for token in tokens]\r\n",
        "    \r\n",
        "    return tokens\r\n",
        "\r\n",
        "  def get_unique_words(self, stemming: bool = False) -> Set[str]:\r\n",
        "    if not self.unique_words:\r\n",
        "      tokens = self._get_tokens(stemming=stemming)\r\n",
        "      self.unique_words = set(tokens)\r\n",
        "    return self.unique_words\r\n",
        "\r\n",
        "  def get_nunique_words(self, stemming: bool = False) -> int:\r\n",
        "    if not self.nunique_words:\r\n",
        "      self.nunique_words = len(self.get_unique_words(stemming=stemming))\r\n",
        "    return self.nunique_words\r\n",
        "  \r\n",
        "  def most_frequent_words(self, k: int = 5, stemming: bool = False) -> List[Tuple[str, int]]:\r\n",
        "    if not self.top_words:\r\n",
        "      tokens = self._get_tokens(stemming=stemming)\r\n",
        "      self.top_words = Counter(tokens).most_common(k)\r\n",
        "    return self.top_words"
      ],
      "execution_count": 159,
      "outputs": []
    },
    {
      "cell_type": "code",
      "metadata": {
        "id": "nfhrT93oway_"
      },
      "source": [
        "def _extend_to_list(artists: Union[Artist, List[Artist]]) -> List[Artist]:\r\n",
        "  if not hasattr(artists, '__len__'):\r\n",
        "    artists = [artists]\r\n",
        "  return artists\r\n"
      ],
      "execution_count": 275,
      "outputs": []
    },
    {
      "cell_type": "code",
      "metadata": {
        "id": "dhPvMJGAN9zK"
      },
      "source": [
        "class Library:\r\n",
        "\r\n",
        "  # Optional[Any] == Union[None, Any]\r\n",
        "  def __init__(self, artists: Optional[List[Artist]] = None):\r\n",
        "    # ОЧЕНЬ ВАЖНО!\r\n",
        "    # Словари, листы, кортежи и т.п. нельзя использовать в качестве значений по-умолчанию,\r\n",
        "    # т.к. инициализироваться они будут только один раз и любое их изменение в классе/функции\r\n",
        "    # будет менять эту изначально созданную копию\r\n",
        "    self.artists = artists if artists is not None else []\r\n",
        "\r\n",
        "    self._artist2idx = {}\r\n",
        "    self.connections = []\r\n",
        "\r\n",
        "    if self.artists:\r\n",
        "      self._artist2idx = {artist.id: idx for idx, artist in enumerate(self.artists)}\r\n",
        "\r\n",
        "  def __repr__(self):\r\n",
        "    header = 'Library: \\n'\r\n",
        "    body = '{idx}. Artist(id={artist.id} name={artist.name})'\r\n",
        "    artists = [\r\n",
        "        body.format(idx=idx + 1, artist=artist) \\\r\n",
        "        for idx, artist in enumerate(self.artists[:5])\r\n",
        "    ]\r\n",
        "    return header + '\\n'.join(artist for artist in artists)\r\n",
        "\r\n",
        "  def __getitem__(self, key):\r\n",
        "    return self.artists.__getitem__(key)\r\n",
        "\r\n",
        "  def add(self, artists: Union[Artist, List[Artist]]):\r\n",
        "    artists = _extend_to_list(artists)\r\n",
        "    for artist in artists:\r\n",
        "      if artist not in self.artists:\r\n",
        "        self.artists.append(artist)\r\n",
        "        self._artist2idx[artist.id] = len(self.artists) - 1\r\n",
        "\r\n",
        "  def remove(self, artists: Union[Artist, List[Artist]]):\r\n",
        "    artists = _extend_to_list(artists)\r\n",
        "    for artist in artists:\r\n",
        "      if artist in self.artists:\r\n",
        "        self.artists.remove(artist)\r\n",
        "    self._artist2idx = {artist.id: idx for idx, artist in enumerate(self.artists)}\r\n",
        "\r\n",
        "  def get(self, id: int) -> Artist:\r\n",
        "    artist = None\r\n",
        "    idx = self._artist2idx.get(id, None)\r\n",
        "    if idx is not None:\r\n",
        "      artist = self.artists[idx]\r\n",
        "    return artist\r\n",
        "\r\n",
        "  def build_connections(self):\r\n",
        "    for primary_artist in self.artists:\r\n",
        "      i = primary_artist.id\r\n",
        "      for song in primary_artist.songs:\r\n",
        "        for _, verse in song.text.items():\r\n",
        "          j = verse.artist.id\r\n",
        "          if i != j and (i, j) not in self.connections:\r\n",
        "            self.connections.append((i, j))\r\n",
        "\r\n",
        "  def clear_cache(self):\r\n",
        "        for i in range(len(self.artists)):\r\n",
        "            self.artists[i].top_songs = []\r\n",
        "            self.artists[i].top_words = []\r\n",
        "            self.artists[i].unique_words = []\r\n",
        "            self.artists[i].nunique_words = []\r\n",
        "            self.artists[i].connections = []\r\n",
        "            self.artists[i].top_connections = []"
      ],
      "execution_count": 161,
      "outputs": []
    },
    {
      "cell_type": "code",
      "metadata": {
        "id": "E5jlZUAkzPZg"
      },
      "source": [
        "def url_concat(*args: List[str]) -> str:\r\n",
        "  return '/'.join(arg[1:] if arg.startswith('/') else arg for arg in args)\r\n",
        "\r\n",
        "\r\n",
        "def GET(url: str, **kwargs: Dict[str, str]) -> Dict:\r\n",
        "  response = requests.get(url, **kwargs)\r\n",
        "  if not response:\r\n",
        "    raise RuntimeError(\"API doesn't respond.\")\r\n",
        "  try:\r\n",
        "    response = response.json().get('response', {})\r\n",
        "  except JSONDecodeError:\r\n",
        "    response = response.content\r\n",
        "  return response"
      ],
      "execution_count": 138,
      "outputs": []
    },
    {
      "cell_type": "code",
      "metadata": {
        "id": "Se_dez28zQt1"
      },
      "source": [
        "class GeniusAPI:\r\n",
        "\r\n",
        "  BEARER: str   = 'Bearer'\r\n",
        "  BASE_URL: str = 'https://api.genius.com'\r\n",
        "\r\n",
        "  def __init__(self, token: str):\r\n",
        "    self.headers = {\r\n",
        "        'Authorization': token if self.BEARER in token else f'{self.BEARER} {token}'\r\n",
        "    }\r\n",
        "\r\n",
        "  # Замыкание\r\n",
        "  def _concat(self, *args: List[str]) -> str:\r\n",
        "    return url_concat(self.BASE_URL, *args)\r\n",
        "\r\n",
        "  def search(self, query: str) -> pd.DataFrame:\r\n",
        "    params = {'q': query}\r\n",
        "    search_url = self._concat('search')\r\n",
        "    response = GET(search_url, params=params, headers=self.headers)\r\n",
        "\r\n",
        "    results = []\r\n",
        "    for hit in response.get('hits', []):\r\n",
        "      song = hit.get('result', {})\r\n",
        "      artist = song.get('primary_artist', {})\r\n",
        "      stats = song.get('stats', {})\r\n",
        "\r\n",
        "      result = dict(\r\n",
        "          song_id=song.get('id', None),\r\n",
        "          song_name=song.get('title', ''),\r\n",
        "          artist_id=artist.get('id', None),\r\n",
        "          artist_name=artist.get('name', ''),\r\n",
        "          views=stats.get('pageviews', 0)\r\n",
        "      )\r\n",
        "      results.append(result)\r\n",
        "    return pd.DataFrame(results)"
      ],
      "execution_count": 139,
      "outputs": []
    },
    {
      "cell_type": "code",
      "metadata": {
        "id": "zyvDYAHC0Cog"
      },
      "source": [
        "api = GeniusAPI(token='_mBM3PvBA8P3M8BIvrSFq9O-WhQx_OzDd4yf4i81zI6lPEJjnwVsSDfRmBCpYcCw') #воспользовалась API Артура"
      ],
      "execution_count": 276,
      "outputs": []
    },
    {
      "cell_type": "code",
      "metadata": {
        "colab": {
          "base_uri": "https://localhost:8080/",
          "height": 359
        },
        "id": "UEScVOcK1AOJ",
        "outputId": "a59d691d-ed67-448e-ce0c-fa73656953b8"
      },
      "source": [
        "api.search('Братья Грим')"
      ],
      "execution_count": 277,
      "outputs": [
        {
          "output_type": "execute_result",
          "data": {
            "text/html": [
              "<div>\n",
              "<style scoped>\n",
              "    .dataframe tbody tr th:only-of-type {\n",
              "        vertical-align: middle;\n",
              "    }\n",
              "\n",
              "    .dataframe tbody tr th {\n",
              "        vertical-align: top;\n",
              "    }\n",
              "\n",
              "    .dataframe thead th {\n",
              "        text-align: right;\n",
              "    }\n",
              "</style>\n",
              "<table border=\"1\" class=\"dataframe\">\n",
              "  <thead>\n",
              "    <tr style=\"text-align: right;\">\n",
              "      <th></th>\n",
              "      <th>song_id</th>\n",
              "      <th>song_name</th>\n",
              "      <th>artist_id</th>\n",
              "      <th>artist_name</th>\n",
              "      <th>views</th>\n",
              "    </tr>\n",
              "  </thead>\n",
              "  <tbody>\n",
              "    <tr>\n",
              "      <th>0</th>\n",
              "      <td>6106657</td>\n",
              "      <td>Кустурица (Kusturica)</td>\n",
              "      <td>1510730</td>\n",
              "      <td>Братья Грим (Brat’ya Grim)</td>\n",
              "      <td>0</td>\n",
              "    </tr>\n",
              "    <tr>\n",
              "      <th>1</th>\n",
              "      <td>4514293</td>\n",
              "      <td>Ресницы (Eyelashes)</td>\n",
              "      <td>1510730</td>\n",
              "      <td>Братья Грим (Brat’ya Grim)</td>\n",
              "      <td>0</td>\n",
              "    </tr>\n",
              "    <tr>\n",
              "      <th>2</th>\n",
              "      <td>3129547</td>\n",
              "      <td>Outro (Ice)</td>\n",
              "      <td>24799</td>\n",
              "      <td>дима бамберг (dima bamberg)</td>\n",
              "      <td>6516</td>\n",
              "    </tr>\n",
              "    <tr>\n",
              "      <th>3</th>\n",
              "      <td>5036028</td>\n",
              "      <td>Слюни (Slobber)</td>\n",
              "      <td>1009318</td>\n",
              "      <td>УННВ (UNNV)</td>\n",
              "      <td>5276</td>\n",
              "    </tr>\n",
              "    <tr>\n",
              "      <th>4</th>\n",
              "      <td>4086020</td>\n",
              "      <td>И только микрофон (And Only Microphone)</td>\n",
              "      <td>1046695</td>\n",
              "      <td>ST</td>\n",
              "      <td>0</td>\n",
              "    </tr>\n",
              "    <tr>\n",
              "      <th>5</th>\n",
              "      <td>4479470</td>\n",
              "      <td>Shout out</td>\n",
              "      <td>1154461</td>\n",
              "      <td>​youknownothing</td>\n",
              "      <td>0</td>\n",
              "    </tr>\n",
              "    <tr>\n",
              "      <th>6</th>\n",
              "      <td>5024497</td>\n",
              "      <td>Сучки (Bitches)</td>\n",
              "      <td>618237</td>\n",
              "      <td>Барто (Barto)</td>\n",
              "      <td>0</td>\n",
              "    </tr>\n",
              "    <tr>\n",
              "      <th>7</th>\n",
              "      <td>2448157</td>\n",
              "      <td>AWAKE</td>\n",
              "      <td>641895</td>\n",
              "      <td>PROJECT ARGO</td>\n",
              "      <td>0</td>\n",
              "    </tr>\n",
              "    <tr>\n",
              "      <th>8</th>\n",
              "      <td>5386982</td>\n",
              "      <td>Марбург (Marburg)</td>\n",
              "      <td>2162179</td>\n",
              "      <td>Майк Магни (Mike Magni)</td>\n",
              "      <td>0</td>\n",
              "    </tr>\n",
              "    <tr>\n",
              "      <th>9</th>\n",
              "      <td>4553017</td>\n",
              "      <td>RAMPAGE</td>\n",
              "      <td>1823274</td>\n",
              "      <td>Ipocrit</td>\n",
              "      <td>0</td>\n",
              "    </tr>\n",
              "  </tbody>\n",
              "</table>\n",
              "</div>"
            ],
            "text/plain": [
              "   song_id  ... views\n",
              "0  6106657  ...     0\n",
              "1  4514293  ...     0\n",
              "2  3129547  ...  6516\n",
              "3  5036028  ...  5276\n",
              "4  4086020  ...     0\n",
              "5  4479470  ...     0\n",
              "6  5024497  ...     0\n",
              "7  2448157  ...     0\n",
              "8  5386982  ...     0\n",
              "9  4553017  ...     0\n",
              "\n",
              "[10 rows x 5 columns]"
            ]
          },
          "metadata": {
            "tags": []
          },
          "execution_count": 277
        }
      ]
    },
    {
      "cell_type": "code",
      "metadata": {
        "id": "TnO8E7Bp099e"
      },
      "source": [
        "def get_song_artists(song: Dict) -> List[Tuple[int, str]]:\r\n",
        "  artists = []\r\n",
        "  song = song['song']\r\n",
        "  tmp_artists = [song['primary_artist']] + song['featured_artists']\r\n",
        "  for tmp_artist in tmp_artists:\r\n",
        "    artists.append((tmp_artist['id'], tmp_artist['name']))\r\n",
        "  return artists\r\n",
        "  \r\n",
        "\r\n",
        "def get_lyrics(api: GeniusAPI, id: int) -> str:\r\n",
        "  id_url = api._concat('songs', f'{id}')\r\n",
        "  response = GET(id_url, headers=api.headers)\r\n",
        "  artists = get_song_artists(response)\r\n",
        "\r\n",
        "  song_path = response['song']['path']\r\n",
        "  song_url = api._concat(song_path).replace('api.', '')\r\n",
        "\r\n",
        "  response = GET(song_url)\r\n",
        "  html = BeautifulSoup(response, 'html.parser')\r\n",
        "  html = html.find('div', class_='lyrics')\r\n",
        "\r\n",
        "  # Запрос не всегда сразу возвращает полный html\r\n",
        "  # Добавим до 10 повторов с 5-ти секундным ожиданием\r\n",
        "  increment = 0\r\n",
        "  while html is None:\r\n",
        "    if increment >= 10:\r\n",
        "      break\r\n",
        "    time.sleep(5)\r\n",
        "    response = GET(song_url)\r\n",
        "    html = BeautifulSoup(response, 'html.parser')\r\n",
        "    html = html.find('div', class_='lyrics')\r\n",
        "    increment += 1\r\n",
        "  \r\n",
        "  # Тем не менее, даже за 10 попыток полный html может не вернуться\r\n",
        "  lyrics = ''\r\n",
        "  if html is not None:\r\n",
        "    lyrics = html.get_text()\r\n",
        "\r\n",
        "  return artists, lyrics"
      ],
      "execution_count": 279,
      "outputs": []
    },
    {
      "cell_type": "code",
      "metadata": {
        "id": "0BjSarl-48qT"
      },
      "source": [
        "# Небольшая функция для вытаскивания текста из объектов раздела\r\n",
        "def get_text(substring: Substring) -> str:\r\n",
        "  return substring.text"
      ],
      "execution_count": 280,
      "outputs": []
    },
    {
      "cell_type": "code",
      "metadata": {
        "id": "U4il9uyM49yK"
      },
      "source": [
        "def tokenize_text(text: str) -> List[str]:\r\n",
        "  # Разбиваем текст на предложения\r\n",
        "  sentences = map(get_text, sentenize(text))\r\n",
        "\r\n",
        "  # Разбиваем предложения на подстроки\r\n",
        "  substrings = map(tokenize, sentences)\r\n",
        "\r\n",
        "  # Так как генератор подстрок возвращает генераторы\r\n",
        "  # Развернем всю эту конструкцию в один генератор\r\n",
        "  tokens = map(get_text, chain.from_iterable(substrings))\r\n",
        "\r\n",
        "  # Отфильтруем знаки препинания\r\n",
        "  tokens_filtered = filter(lambda token: token not in punctuation, tokens)\r\n",
        "\r\n",
        "  return list(tokens_filtered)"
      ],
      "execution_count": 144,
      "outputs": []
    },
    {
      "cell_type": "code",
      "metadata": {
        "id": "xPVYTZ075-LF"
      },
      "source": [
        "VERSE_REGEXP = r'\\[.+\\]'\r\n",
        "ENG_NAME_REGEXP = r'\\s\\([A-Za-z\\s]+\\)'\r\n",
        "VERSE_TYPES = [\r\n",
        "  'интро',\r\n",
        "  'аутро',\r\n",
        "  'куплет',\r\n",
        "  'припев',\r\n",
        "  'предприпев',\r\n",
        "  'бридж'\r\n",
        "]\r\n",
        "\r\n",
        "\r\n",
        "def delete_eng_name(name: str) -> str:\r\n",
        "  return re.sub(ENG_NAME_REGEXP, '', name)\r\n",
        "\r\n",
        "\r\n",
        "def compare_names(name1: str, name2: str) -> bool:\r\n",
        "  score = fuzz.WRatio(name1, name2)\r\n",
        "  return score >= 80\r\n",
        "\r\n",
        "\r\n",
        "def parse_lyrics(artists: List[Tuple[int, str]], lyrics: str, library: Library) -> Dict[str, Verse]:\r\n",
        "  text = {}\r\n",
        "  lyrics = lyrics.split('\\n\\n')\r\n",
        "  for part in lyrics:\r\n",
        "    key = re.search(VERSE_REGEXP, part)\r\n",
        "    if key and any([verse_type in key.group(0).lower() for verse_type in VERSE_TYPES]):\r\n",
        "      key = key.group(0)\r\n",
        "      part = part.replace(key, '')\r\n",
        "\r\n",
        "      names = artists[0][1]\r\n",
        "      if len(artists) > 1:\r\n",
        "        if ':' in key:\r\n",
        "          key, names = key.split(':')\r\n",
        "\r\n",
        "          names = names.replace(']', '')\r\n",
        "          key += ']'\r\n",
        "      \r\n",
        "      verse_artist = None\r\n",
        "      for idx, artist in artists:\r\n",
        "        artist = delete_eng_name(artist)\r\n",
        "        if compare_names(artist, names):\r\n",
        "          verse_artist = library.get(idx)\r\n",
        "          if verse_artist is None:\r\n",
        "            verse_artist = Artist(id=idx, name=artist, songs=[])\r\n",
        "            library.add(verse_artist)\r\n",
        "      \r\n",
        "      if verse_artist is not None:\r\n",
        "        text[key] = Verse(artist=verse_artist, text=part)\r\n",
        "  \r\n",
        "  return text"
      ],
      "execution_count": 281,
      "outputs": []
    },
    {
      "cell_type": "code",
      "metadata": {
        "id": "D2DOJNqd8BjQ"
      },
      "source": [
        "def build_library(api: GeniusAPI, queries: List[str]) -> Library:\r\n",
        "  library = Library()\r\n",
        "  for query in tqdm(queries, leave=False):\r\n",
        "    search_result = api.search(query)\r\n",
        "    for _, row in search_result.iterrows():\r\n",
        "      artists, lyrics = get_lyrics(api, row.song_id)\r\n",
        "      text = parse_lyrics(artists, lyrics, library)\r\n",
        "      if text:\r\n",
        "        song = Song(id=row.song_id, name=row.song_name, text=text, views=row.views)\r\n",
        "        for idx, name in artists:\r\n",
        "          artist = library.get(idx)\r\n",
        "          if artist is not None:\r\n",
        "            artist.add_song(song)\r\n",
        "  return library"
      ],
      "execution_count": 282,
      "outputs": []
    },
    {
      "cell_type": "code",
      "metadata": {
        "id": "x4Tr8ZzF8DCY"
      },
      "source": [
        "queries = [  \r\n",
        "           'Бумбокс',\r\n",
        "           'Город 312',\r\n",
        "           'Звери',\r\n",
        "           'Би-2',\r\n",
        "           'Чичерина',\r\n",
        "           'МакSим',\r\n",
        "           'Виа Гра',\r\n",
        "           'Григорий Лепс',\r\n",
        "           'Винтаж',\r\n",
        "           'Дискотека Авария',\r\n",
        "           'Руки Вверх!',\r\n",
        "           'Ленинград',\r\n",
        "           'Сплин',\r\n",
        "           'Братья Грим',\r\n",
        "           'Полина Гагарина',\r\n",
        "           'Баста',\r\n",
        "           'Little Big',\r\n",
        "           'Валерий Меладзе',\r\n",
        "           'Тимати',\r\n",
        "           'Каста'\r\n",
        "\r\n",
        "]"
      ],
      "execution_count": 294,
      "outputs": []
    },
    {
      "cell_type": "code",
      "metadata": {
        "colab": {
          "base_uri": "https://localhost:8080/",
          "height": 17,
          "referenced_widgets": [
            "3ce4d27ca07143d6a228e171df87a8b9",
            "2273bf71fbcc44e6bd26e5b88295029b",
            "eeb435a1f13446e99c412ab09672cd40",
            "b743265afc8c4e96872a975f1af9bbbb",
            "af2d14c04a704090ac2336e3cb2d9c2b",
            "60f05977b6424bce9bcdc4e909392c53",
            "5ed8973af40b4b118bb581c0a1d75599",
            "3157f4323ffe40f0b59749aa5e8f103b"
          ]
        },
        "id": "2Z42iToV8J2G",
        "outputId": "a2c609ea-142d-49eb-f1e9-313c7367909f"
      },
      "source": [
        "library = build_library(api, queries=queries)"
      ],
      "execution_count": 295,
      "outputs": [
        {
          "output_type": "display_data",
          "data": {
            "application/vnd.jupyter.widget-view+json": {
              "model_id": "3ce4d27ca07143d6a228e171df87a8b9",
              "version_minor": 0,
              "version_major": 2
            },
            "text/plain": [
              "HBox(children=(FloatProgress(value=0.0, max=20.0), HTML(value='')))"
            ]
          },
          "metadata": {
            "tags": []
          }
        }
      ]
    },
    {
      "cell_type": "code",
      "metadata": {
        "colab": {
          "base_uri": "https://localhost:8080/"
        },
        "id": "13mqZAzl8Nky",
        "outputId": "c62bbf0d-a608-4e97-e073-15396b47b78c"
      },
      "source": [
        "print(library)"
      ],
      "execution_count": 296,
      "outputs": [
        {
          "output_type": "stream",
          "text": [
            "Library: \n",
            "1. Artist(id=1265811 name=Бумбокс)\n",
            "2. Artist(id=1265736 name=Город 312 (Gorod 312))\n",
            "3. Artist(id=49085 name=Баста)\n",
            "4. Artist(id=2024231 name=Ulukmanapo)\n",
            "5. Artist(id=2020804 name=AP Clan)\n"
          ],
          "name": "stdout"
        }
      ]
    },
    {
      "cell_type": "code",
      "metadata": {
        "colab": {
          "base_uri": "https://localhost:8080/"
        },
        "id": "T0fjauAKEI6I",
        "outputId": "aacd0cea-bec4-458b-ab4a-d956f01af3a3"
      },
      "source": [
        "print(library.get(49085))"
      ],
      "execution_count": 297,
      "outputs": [
        {
          "output_type": "stream",
          "text": [
            "Artist(id=49085 name=Баста) \n",
            "\n",
            "Songs:\n",
            "1. Song(id=3331861, name=Обернись (Turn around), views=0)\n",
            "2. Song(id=3050599, name=Сансара (Sansara), views=396755)\n",
            "3. Song(id=3372511, name=Папа What’s Up, views=90670)\n",
            "4. Song(id=1861520, name=Мама (Mama), views=80997)\n",
            "5. Song(id=3332133, name=Солнца не видно (Can’t See the Sun), views=84787)\n"
          ],
          "name": "stdout"
        }
      ]
    },
    {
      "cell_type": "code",
      "metadata": {
        "colab": {
          "base_uri": "https://localhost:8080/"
        },
        "id": "oYiQ1oofE4gM",
        "outputId": "9f727862-4e0e-43bc-dad4-d4bc887a0b97"
      },
      "source": [
        "library.get(49085).most_frequent_words()"
      ],
      "execution_count": 298,
      "outputs": [
        {
          "output_type": "execute_result",
          "data": {
            "text/plain": [
              "[('и', 114), ('я', 77), ('в', 76), ('не', 63), ('на', 45)]"
            ]
          },
          "metadata": {
            "tags": []
          },
          "execution_count": 298
        }
      ]
    },
    {
      "cell_type": "code",
      "metadata": {
        "colab": {
          "base_uri": "https://localhost:8080/",
          "height": 163
        },
        "id": "3wxHgkofGVX_",
        "outputId": "375cabcb-ffbe-4682-859e-ba4a0131bd3d"
      },
      "source": [
        "library.build_connections()"
      ],
      "execution_count": 299,
      "outputs": [
        {
          "output_type": "error",
          "ename": "TypeError",
          "evalue": "ignored",
          "traceback": [
            "\u001b[0;31m---------------------------------------------------------------------------\u001b[0m",
            "\u001b[0;31mTypeError\u001b[0m                                 Traceback (most recent call last)",
            "\u001b[0;32m<ipython-input-299-6edb9303ac9b>\u001b[0m in \u001b[0;36m<module>\u001b[0;34m()\u001b[0m\n\u001b[0;32m----> 1\u001b[0;31m \u001b[0mlibrary\u001b[0m\u001b[0;34m.\u001b[0m\u001b[0mbuild_connections\u001b[0m\u001b[0;34m(\u001b[0m\u001b[0;34m)\u001b[0m\u001b[0;34m\u001b[0m\u001b[0;34m\u001b[0m\u001b[0m\n\u001b[0m",
            "\u001b[0;31mTypeError\u001b[0m: build_connections() takes 0 positional arguments but 1 was given"
          ]
        }
      ]
    },
    {
      "cell_type": "code",
      "metadata": {
        "colab": {
          "base_uri": "https://localhost:8080/"
        },
        "id": "qqcZLN2sGZxy",
        "outputId": "fab962ac-2444-466f-90b7-328858a43c1a"
      },
      "source": [
        "library.connections[:10]"
      ],
      "execution_count": 300,
      "outputs": [
        {
          "output_type": "execute_result",
          "data": {
            "text/plain": [
              "[]"
            ]
          },
          "metadata": {
            "tags": []
          },
          "execution_count": 300
        }
      ]
    },
    {
      "cell_type": "code",
      "metadata": {
        "id": "Fl0mIGDKGg_V"
      },
      "source": [
        "G = nx.from_edgelist(library.connections)"
      ],
      "execution_count": 88,
      "outputs": []
    },
    {
      "cell_type": "code",
      "metadata": {
        "colab": {
          "base_uri": "https://localhost:8080/"
        },
        "id": "iQO_6U64Gj4I",
        "outputId": "3116a950-8e2c-43fa-c2e1-233af93aa32c"
      },
      "source": [
        "G"
      ],
      "execution_count": 89,
      "outputs": [
        {
          "output_type": "execute_result",
          "data": {
            "text/plain": [
              "<networkx.classes.graph.Graph at 0x7ff2102f2c18>"
            ]
          },
          "metadata": {
            "tags": []
          },
          "execution_count": 89
        }
      ]
    },
    {
      "cell_type": "code",
      "metadata": {
        "colab": {
          "base_uri": "https://localhost:8080/"
        },
        "id": "bJdvUBNgGl55",
        "outputId": "5cc4c454-ae1a-4c74-a3c8-dcd18564c552"
      },
      "source": [
        "pg = sorted(nx.pagerank(G).items(), key=lambda x: x[1], reverse=True)\r\n",
        "for i, (idx, rank) in enumerate(pg):\r\n",
        "  artist = library.get(idx)\r\n",
        "  print(f'{i + 1}. {artist.name} имеет PageRank {rank:.3f}')"
      ],
      "execution_count": 90,
      "outputs": [
        {
          "output_type": "stream",
          "text": [
            "1. БИ-2 (BI-2) имеет PageRank 0.079\n",
            "2. Тимати имеет PageRank 0.064\n",
            "3. Григорий Лепс имеет PageRank 0.043\n",
            "4. Баста имеет PageRank 0.041\n",
            "5. Красное Дерево имеет PageRank 0.028\n",
            "6. Slim имеет PageRank 0.028\n",
            "7. дима бамберг имеет PageRank 0.028\n",
            "8. Leon Libre имеет PageRank 0.028\n",
            "9. Овсянкин имеет PageRank 0.028\n",
            "10. МС Кальмар имеет PageRank 0.028\n",
            "11. ВИА Гра имеет PageRank 0.028\n",
            "12. Валерий Меладзе имеет PageRank 0.028\n",
            "13. Винтаж имеет PageRank 0.028\n",
            "14. Елена Корикова имеет PageRank 0.028\n",
            "15. Жанна Фриске имеет PageRank 0.028\n",
            "16. Дискотека Авария имеет PageRank 0.028\n",
            "17. ST имеет PageRank 0.028\n",
            "18. Ленинград имеет PageRank 0.028\n",
            "19. Ipocrit имеет PageRank 0.028\n",
            "20. Chon a luy имеет PageRank 0.028\n",
            "21. Баста и Смоки Мо (Basta & Smoky Mo) имеет PageRank 0.028\n",
            "22. Скриптонит имеет PageRank 0.028\n",
            "23. Елена Темникова имеет PageRank 0.027\n",
            "24. Bumble Beezy имеет PageRank 0.027\n",
            "25. Егор Крид имеет PageRank 0.026\n",
            "26. Скруджи имеет PageRank 0.026\n",
            "27. Бумбокс имеет PageRank 0.021\n",
            "28. Город 312 (Gorod 312) имеет PageRank 0.021\n",
            "29. Джиган имеет PageRank 0.016\n",
            "30. Ирина Аллегрова имеет PageRank 0.016\n",
            "31. Oxxxymiron имеет PageRank 0.015\n",
            "32. John Grant имеет PageRank 0.015\n",
            "33. Сплин имеет PageRank 0.015\n",
            "34. Чичерина имеет PageRank 0.015\n",
            "35. Леван Горозия (L’One) имеет PageRank 0.015\n",
            "36. Павел Мурашов имеет PageRank 0.015\n"
          ],
          "name": "stdout"
        }
      ]
    },
    {
      "cell_type": "markdown",
      "metadata": {
        "id": "GRYpHmAuG98G"
      },
      "source": [
        "Визуализация графа"
      ]
    },
    {
      "cell_type": "code",
      "metadata": {
        "id": "NHs4XqbjG7LV"
      },
      "source": [
        "pos = nx.spring_layout(G)\r\n",
        "labels = {idx: library.get(idx).name for idx in G.nodes}"
      ],
      "execution_count": 91,
      "outputs": []
    },
    {
      "cell_type": "code",
      "metadata": {
        "colab": {
          "base_uri": "https://localhost:8080/",
          "height": 751
        },
        "id": "WbNjjmF4HFGW",
        "outputId": "05971a2c-dec9-43df-f322-51540b7bee67"
      },
      "source": [
        "plt.figure(figsize=(15, 10))\r\n",
        "nx.draw(G, pos=pos)\r\n",
        "nx.draw_networkx_labels(G, pos=pos, labels=labels)\r\n",
        "plt.show()"
      ],
      "execution_count": 94,
      "outputs": [
        {
          "output_type": "display_data",
          "data": {
            "image/png": "[encoded data removed]",
            "text/plain": [
              "<Figure size 1080x720 with 1 Axes>"
            ]
          },
          "metadata": {
            "tags": []
          }
        }
      ]
    },
    {
      "cell_type": "markdown",
      "metadata": {
        "id": "Q6u9LVWvHfOi"
      },
      "source": [
        "Анализ текста"
      ]
    },
    {
      "cell_type": "code",
      "metadata": {
        "id": "9JHzWYiqHeQH"
      },
      "source": [
        "words = defaultdict(lambda: 0)\r\n",
        "for artist in library:\r\n",
        "  nunique_words = artist.get_nunique_words()\r\n",
        "  counter = artist.most_frequent_words(k=nunique_words)\r\n",
        "  for word, count in counter:\r\n",
        "    words[word] += count"
      ],
      "execution_count": 110,
      "outputs": []
    },
    {
      "cell_type": "code",
      "metadata": {
        "colab": {
          "base_uri": "https://localhost:8080/"
        },
        "id": "qUsMkiqiHoLz",
        "outputId": "2fd90bcf-1052-4a3d-aff0-685c708e4782"
      },
      "source": [
        "words_sorted = sorted(words.items(), key=lambda x: x[1], reverse=True)\r\n",
        "words_sorted[:10]"
      ],
      "execution_count": 113,
      "outputs": [
        {
          "output_type": "execute_result",
          "data": {
            "text/plain": [
              "[('и', 793),\n",
              " ('не', 682),\n",
              " ('в', 662),\n",
              " ('я', 625),\n",
              " ('на', 409),\n",
              " ('ты', 335),\n",
              " ('как', 244),\n",
              " ('с', 194),\n",
              " ('что', 184),\n",
              " ('это', 175)]"
            ]
          },
          "metadata": {
            "tags": []
          },
          "execution_count": 113
        }
      ]
    },
    {
      "cell_type": "code",
      "metadata": {
        "colab": {
          "base_uri": "https://localhost:8080/",
          "height": 163
        },
        "id": "3Og0Pf1hOxPV",
        "outputId": "7307a27c-1393-462f-b760-515561a01291"
      },
      "source": [
        "library.clear_cache()"
      ],
      "execution_count": 165,
      "outputs": [
        {
          "output_type": "error",
          "ename": "AttributeError",
          "evalue": "ignored",
          "traceback": [
            "\u001b[0;31m---------------------------------------------------------------------------\u001b[0m",
            "\u001b[0;31mAttributeError\u001b[0m                            Traceback (most recent call last)",
            "\u001b[0;32m<ipython-input-165-be20f8a78475>\u001b[0m in \u001b[0;36m<module>\u001b[0;34m()\u001b[0m\n\u001b[0;32m----> 1\u001b[0;31m \u001b[0mlibrary\u001b[0m\u001b[0;34m.\u001b[0m\u001b[0mclear_cache\u001b[0m\u001b[0;34m(\u001b[0m\u001b[0;34m)\u001b[0m\u001b[0;34m\u001b[0m\u001b[0;34m\u001b[0m\u001b[0m\n\u001b[0m",
            "\u001b[0;31mAttributeError\u001b[0m: 'Library' object has no attribute 'clear_cache'"
          ]
        }
      ]
    },
    {
      "cell_type": "code",
      "metadata": {
        "id": "4ECC1RWKOuSG"
      },
      "source": [
        "words_after = defaultdict(lambda: 0)\r\n",
        "for artist in library:\r\n",
        "  nunique_words_after = artist.get_nunique_words(stemming=True)\r\n",
        "  counter_after = artist.most_frequent_words(k=nunique_words,stemming=True)\r\n",
        "  for word, count in counter_after:\r\n",
        "    words_after[word] += count\r\n",
        "words_sorted_after = sorted(words_after.items(), key=lambda x: x[1], reverse=True)"
      ],
      "execution_count": 174,
      "outputs": []
    },
    {
      "cell_type": "markdown",
      "metadata": {
        "id": "prKBCkO5JMfM"
      },
      "source": [
        "Закон Ципфа (Поиск наиболее частых слов в тексте)\r\n"
      ]
    },
    {
      "cell_type": "code",
      "metadata": {
        "id": "p8lPQg9WJFIA"
      },
      "source": [
        "ranks: Dict[int, int] = {rank: count for rank, (word, count) in enumerate(words_sorted)}\r\n",
        "ranks1: Dict[int, int] = {rank: count for rank, (word, count) in enumerate(words_sorted1)}"
      ],
      "execution_count": 175,
      "outputs": []
    },
    {
      "cell_type": "code",
      "metadata": {
        "colab": {
          "base_uri": "https://localhost:8080/",
          "height": 621
        },
        "id": "AAoJygzHJLNs",
        "outputId": "a5501af2-b2c8-437b-a095-6b9d8c3ac1fc"
      },
      "source": [
        "plt.figure(figsize=(15, 10))\r\n",
        "plt.title('Закон Ципфа')\r\n",
        "plt.plot(list(ranks.keys()), list(ranks.values()), marker='s', linestyle='dashed', color = 'pink')\r\n",
        "plt.plot(list(ranks1.keys()), list(ranks1.values()), marker='s', linestyle='dashed', color = 'green')\r\n",
        "plt.ylabel('Кол-во употреблений слова')\r\n",
        "plt.xlabel('Ранг слова по встречаемости')\r\n",
        "plt.show()"
      ],
      "execution_count": 168,
      "outputs": [
        {
          "output_type": "display_data",
          "data": {
            "image/png": "[encoded data removed]",
            "text/plain": [
              "<Figure size 1080x720 with 1 Axes>"
            ]
          },
          "metadata": {
            "tags": [],
            "needs_background": "light"
          }
        }
      ]
    },
    {
      "cell_type": "markdown",
      "metadata": {
        "id": "YyjBSnKCPvX0"
      },
      "source": [
        "Кривая в логарифмической шкале"
      ]
    },
    {
      "cell_type": "code",
      "metadata": {
        "colab": {
          "base_uri": "https://localhost:8080/",
          "height": 621
        },
        "id": "4b2Uwfh8JfIV",
        "outputId": "2be45dc4-40e5-455c-c664-07fec92d43c5"
      },
      "source": [
        "plt.figure(figsize=(15, 10))\r\n",
        "plt.title('Закон Ципфа')\r\n",
        "plt.plot(list(ranks.keys()), np.log(list(ranks.values())), marker='s', linestyle='dashed', color = 'pink')\r\n",
        "plt.plot(list(ranks1.keys()), np.log(list(ranks1.values())), marker='s', linestyle='dashed', color = 'green')\r\n",
        "plt.ylabel('Кол-во употреблений слова')\r\n",
        "plt.xlabel('Ранг слова по встречаемости')\r\n",
        "plt.show()"
      ],
      "execution_count": 176,
      "outputs": [
        {
          "output_type": "display_data",
          "data": {
            "image/png": "[encoded data removed]",
            "text/plain": [
              "<Figure size 1080x720 with 1 Axes>"
            ]
          },
          "metadata": {
            "tags": [],
            "needs_background": "light"
          }
        }
      ]
    },
    {
      "cell_type": "code",
      "metadata": {
        "colab": {
          "base_uri": "https://localhost:8080/",
          "height": 163
        },
        "id": "1A3mrvXUJeQI",
        "outputId": "b24f9818-c929-4522-b53d-6774f86601bd"
      },
      "source": [
        "library.clear_cache()"
      ],
      "execution_count": 177,
      "outputs": [
        {
          "output_type": "error",
          "ename": "AttributeError",
          "evalue": "ignored",
          "traceback": [
            "\u001b[0;31m---------------------------------------------------------------------------\u001b[0m",
            "\u001b[0;31mAttributeError\u001b[0m                            Traceback (most recent call last)",
            "\u001b[0;32m<ipython-input-177-be20f8a78475>\u001b[0m in \u001b[0;36m<module>\u001b[0;34m()\u001b[0m\n\u001b[0;32m----> 1\u001b[0;31m \u001b[0mlibrary\u001b[0m\u001b[0;34m.\u001b[0m\u001b[0mclear_cache\u001b[0m\u001b[0;34m(\u001b[0m\u001b[0;34m)\u001b[0m\u001b[0;34m\u001b[0m\u001b[0;34m\u001b[0m\u001b[0m\n\u001b[0m",
            "\u001b[0;31mAttributeError\u001b[0m: 'Library' object has no attribute 'clear_cache'"
          ]
        }
      ]
    },
    {
      "cell_type": "markdown",
      "metadata": {
        "id": "JW7g2sqhI0WN"
      },
      "source": [
        "Домашнее задание 2. Сравните кривую Ципфа до и после лемматизации. Оцените, насколько уменьшилось кол-во слов и изменились ли топ и антитоп."
      ]
    },
    {
      "cell_type": "code",
      "metadata": {
        "colab": {
          "base_uri": "https://localhost:8080/"
        },
        "id": "lNe6ur2uObaO",
        "outputId": "090375aa-6d09-48f3-da0c-748ddaf0caba"
      },
      "source": [
        "print(' Кол-во слов до лемматизации: '+str(sum(list(words.values())))+'\\n',\r\n",
        "      'Кол-во слов после лемматизации: '+str(sum(list(words_after.values())))+'\\n',\r\n",
        "     'Топ до и после лемматизации:\\n',pd.DataFrame(zip((words_sorted[:10]),(words_sorted_after[:10]))),\r\n",
        "     '\\n Анти-топ до и после лемматизации:\\n',pd.DataFrame(zip((words_sorted[-10:]),(words_sorted_after[-10:]))))"
      ],
      "execution_count": 178,
      "outputs": [
        {
          "output_type": "stream",
          "text": [
            " Кол-во слов до лемматизации: 21589\n",
            " Кол-во слов после лемматизации: 17008\n",
            " Топ до и после лемматизации:\n",
            "             0           1\n",
            "0    (и, 793)   (я, 1011)\n",
            "1   (не, 682)    (и, 922)\n",
            "2    (в, 662)   (не, 795)\n",
            "3    (я, 625)    (в, 790)\n",
            "4   (на, 409)   (ты, 648)\n",
            "5   (ты, 335)   (на, 500)\n",
            "6  (как, 244)   (мы, 351)\n",
            "7    (с, 194)  (что, 297)\n",
            "8  (что, 184)  (как, 295)\n",
            "9  (это, 175)  (всё, 282) \n",
            " Анти-топ до и после лемматизации:\n",
            "                  0            1\n",
            "0       (толпы, 1)   (speed, 1)\n",
            "1      (продаж, 1)     (tag, 1)\n",
            "2      (бардак, 1)   (damen, 1)\n",
            "3        (дышу, 1)     (und, 1)\n",
            "4       (спишь, 1)  (herren, 1)\n",
            "5  (прочитаешь, 1)    (eine, 1)\n",
            "6    (грёбаных, 1)    (sehr, 1)\n",
            "7         (сми, 1)    (gute, 1)\n",
            "8         (max, 1)     (зер, 1)\n",
            "9       (speed, 1)    (гута, 1)\n"
          ],
          "name": "stdout"
        }
      ]
    },
    {
      "cell_type": "markdown",
      "metadata": {
        "id": "9fJWxHa6SQQ-"
      },
      "source": [
        "Домашнее задание 3. Нарисуйте кривые Ципфа до и после лемматизации в логарифмической и нормальной шкале."
      ]
    },
    {
      "cell_type": "code",
      "metadata": {
        "colab": {
          "base_uri": "https://localhost:8080/",
          "height": 621
        },
        "id": "UnwuzdgESPnL",
        "outputId": "637b52c1-fb85-417e-a8e8-ecac41e523a8"
      },
      "source": [
        "plt.figure(figsize=(15, 10))\r\n",
        "plt.title('Закон Ципфа')\r\n",
        "plt.plot(list(ranks.keys())[:100], np.log(list(ranks.values()))[:100], marker='s', linestyle='dashed', color = 'pink')\r\n",
        "plt.plot(list(ranks1.keys())[:100], np.log(list(ranks1.values()))[:100], marker='s', linestyle='dashed', color = 'green')\r\n",
        "plt.legend(labels=['до лемматизации','после лемматизации'])\r\n",
        "plt.ylabel('Кол-во употреблений слова')\r\n",
        "plt.xlabel('Ранг слова по встречаемости')\r\n",
        "plt.show()"
      ],
      "execution_count": 179,
      "outputs": [
        {
          "output_type": "display_data",
          "data": {
            "image/png": "[encoded data removed]",
            "text/plain": [
              "<Figure size 1080x720 with 1 Axes>"
            ]
          },
          "metadata": {
            "tags": [],
            "needs_background": "light"
          }
        }
      ]
    },
    {
      "cell_type": "code",
      "metadata": {
        "colab": {
          "base_uri": "https://localhost:8080/",
          "height": 621
        },
        "id": "jImrAJF6Sm_X",
        "outputId": "761fb2c0-67c6-40c1-b9ec-1ac6987bb46b"
      },
      "source": [
        "plt.figure(figsize=(15, 10))\r\n",
        "plt.title('Закон Ципфа')\r\n",
        "plt.plot(list(ranks.keys())[:25], list(ranks.values())[:25], marker='s', linestyle='dashed', color = 'pink')\r\n",
        "plt.plot(list(ranks1.keys())[:25], list(ranks1.values())[:25], marker='s', linestyle='dashed', color = 'green')\r\n",
        "plt.ylabel('Кол-во употреблений слова')\r\n",
        "plt.xlabel('Ранг слова по встречаемости')\r\n",
        "plt.show()"
      ],
      "execution_count": 180,
      "outputs": [
        {
          "output_type": "display_data",
          "data": {
            "image/png": "[encoded data removed]",
            "text/plain": [
              "<Figure size 1080x720 with 1 Axes>"
            ]
          },
          "metadata": {
            "tags": [],
            "needs_background": "light"
          }
        }
      ]
    },
    {
      "cell_type": "code",
      "metadata": {
        "id": "sGvkFW6FXQFP"
      },
      "source": [
        "prev = None\r\n",
        "ranks_diff = []\r\n",
        "for count in ranks.values():\r\n",
        "  if prev is not None:\r\n",
        "    ranks_diff.append(count - prev)\r\n",
        "  prev = count"
      ],
      "execution_count": 199,
      "outputs": []
    },
    {
      "cell_type": "code",
      "metadata": {
        "colab": {
          "base_uri": "https://localhost:8080/",
          "height": 622
        },
        "id": "T8z0hxq1XR3m",
        "outputId": "745e08e1-bbe3-44b6-f67f-e8f316fb7f95"
      },
      "source": [
        "plt.figure(figsize=(15, 10))\r\n",
        "plt.title('Производная употреблений слов от ранга')\r\n",
        "plt.plot(range(len(ranks_diff)), ranks_diff, marker='s', linestyle='dashed')\r\n",
        "plt.axhline(-2, linestyle='dashed', color='g', alpha=.75)\r\n",
        "plt.axhline(-10, linestyle='dashed', color='g', alpha=.75)\r\n",
        "plt.fill_between(range(-2, 251), [-10] * 253, [-2] * 253, color='g', alpha=.25)\r\n",
        "plt.ylabel('Разность в употреблении слов')\r\n",
        "plt.xlabel('Ранг слова по встречаемости')\r\n",
        "plt.xlim(-2, 250)\r\n",
        "plt.show()"
      ],
      "execution_count": 200,
      "outputs": [
        {
          "output_type": "display_data",
          "data": {
            "image/png": "[encoded data removed]",
            "text/plain": [
              "<Figure size 1080x720 with 1 Axes>"
            ]
          },
          "metadata": {
            "tags": [],
            "needs_background": "light"
          }
        }
      ]
    },
    {
      "cell_type": "code",
      "metadata": {
        "id": "mwZTfpmIXeKw"
      },
      "source": [
        "words_filtered_diff = {}\r\n",
        "for idx, count_diff in enumerate(ranks_diff):\r\n",
        "  if -10 <= count_diff <= -2:\r\n",
        "    word, count = words_sorted[idx + 1]\r\n",
        "    words_filtered_diff[word] = count"
      ],
      "execution_count": 217,
      "outputs": []
    },
    {
      "cell_type": "code",
      "metadata": {
        "colab": {
          "base_uri": "https://localhost:8080/"
        },
        "id": "uH7HHHUpXhfC",
        "outputId": "42d57370-1886-4981-cf42-58ee0b9066da"
      },
      "source": [
        "print(len(words_filtered_diff))"
      ],
      "execution_count": 218,
      "outputs": [
        {
          "output_type": "stream",
          "text": [
            "23\n"
          ],
          "name": "stdout"
        }
      ]
    },
    {
      "cell_type": "code",
      "metadata": {
        "id": "4d_hpKY6YAZg"
      },
      "source": [
        "rus_stopwords = stopwords.words('russian')"
      ],
      "execution_count": 219,
      "outputs": []
    },
    {
      "cell_type": "code",
      "metadata": {
        "id": "Ol14hVsGYMwY"
      },
      "source": [
        "words_filtered_rule: Dict[str, int] = {word: count for word, count in words_sorted if word not in rus_stopwords and count >= 10}"
      ],
      "execution_count": 220,
      "outputs": []
    },
    {
      "cell_type": "code",
      "metadata": {
        "colab": {
          "base_uri": "https://localhost:8080/"
        },
        "id": "6TwSaY2KYVBH",
        "outputId": "622448c7-0936-4e46-fd47-84063ea34060"
      },
      "source": [
        "print(len(words_filtered_rule))"
      ],
      "execution_count": 221,
      "outputs": [
        {
          "output_type": "stream",
          "text": [
            "131\n"
          ],
          "name": "stdout"
        }
      ]
    },
    {
      "cell_type": "code",
      "metadata": {
        "colab": {
          "base_uri": "https://localhost:8080/"
        },
        "id": "wY6BWl5_Ye52",
        "outputId": "c748ac30-907e-43bc-9f2c-b37294b53521"
      },
      "source": [
        "print(set(words_filtered_diff.keys()) & set(words_filtered_rule.keys()))"
      ],
      "execution_count": 222,
      "outputs": [
        {
          "output_type": "stream",
          "text": [
            "{'–', 'тебе', 'всё', '«', 'это'}\n"
          ],
          "name": "stdout"
        }
      ]
    },
    {
      "cell_type": "code",
      "metadata": {
        "id": "HTQwSW9QYq9D"
      },
      "source": [
        "unique_words = set(words_filtered_diff.keys()) | set(words_filtered_rule.keys())"
      ],
      "execution_count": 211,
      "outputs": []
    },
    {
      "cell_type": "code",
      "metadata": {
        "colab": {
          "base_uri": "https://localhost:8080/",
          "height": 204
        },
        "id": "NNsI4xsvY0NB",
        "outputId": "3c415954-9188-4b8d-9ad5-61135245c9fa"
      },
      "source": [
        "words_filtered_diff = sorted(words_filtered_diff.items(), key=lambda x: x[1], reverse=True)\r\n",
        "words_filtered_rule = sorted(words_filtered_rule.items(), key=lambda x: x[1], reverse=True)\r\n",
        "ranks_total = pd.DataFrame(unique_words, columns=['word'])\r\n",
        "for idx, (word, count) in enumerate(words_filtered_diff):\r\n",
        "  mask = ranks_total.word == word\r\n",
        "  ranks_total.loc[mask, 'count'] = count\r\n",
        "  ranks_total.loc[mask, 'rank_diff'] = idx + 1\r\n",
        "for idx, (word, count) in enumerate(words_filtered_rule):\r\n",
        "  mask = ranks_total.word == word\r\n",
        "  ranks_total.loc[mask, 'count'] = count\r\n",
        "  ranks_total.loc[mask, 'rank_rule'] = idx + 1\r\n",
        "ranks_total.head()"
      ],
      "execution_count": 223,
      "outputs": [
        {
          "output_type": "execute_result",
          "data": {
            "text/html": [
              "<div>\n",
              "<style scoped>\n",
              "    .dataframe tbody tr th:only-of-type {\n",
              "        vertical-align: middle;\n",
              "    }\n",
              "\n",
              "    .dataframe tbody tr th {\n",
              "        vertical-align: top;\n",
              "    }\n",
              "\n",
              "    .dataframe thead th {\n",
              "        text-align: right;\n",
              "    }\n",
              "</style>\n",
              "<table border=\"1\" class=\"dataframe\">\n",
              "  <thead>\n",
              "    <tr style=\"text-align: right;\">\n",
              "      <th></th>\n",
              "      <th>word</th>\n",
              "      <th>count</th>\n",
              "      <th>rank_diff</th>\n",
              "      <th>rank_rule</th>\n",
              "    </tr>\n",
              "  </thead>\n",
              "  <tbody>\n",
              "    <tr>\n",
              "      <th>0</th>\n",
              "      <td>–</td>\n",
              "      <td>42.0</td>\n",
              "      <td>22.0</td>\n",
              "      <td>10.0</td>\n",
              "    </tr>\n",
              "    <tr>\n",
              "      <th>1</th>\n",
              "      <td>моих</td>\n",
              "      <td>10.0</td>\n",
              "      <td>NaN</td>\n",
              "      <td>129.0</td>\n",
              "    </tr>\n",
              "    <tr>\n",
              "      <th>2</th>\n",
              "      <td>свои</td>\n",
              "      <td>14.0</td>\n",
              "      <td>NaN</td>\n",
              "      <td>71.0</td>\n",
              "    </tr>\n",
              "    <tr>\n",
              "      <th>3</th>\n",
              "      <td>понять</td>\n",
              "      <td>11.0</td>\n",
              "      <td>NaN</td>\n",
              "      <td>101.0</td>\n",
              "    </tr>\n",
              "    <tr>\n",
              "      <th>4</th>\n",
              "      <td>любовь</td>\n",
              "      <td>25.0</td>\n",
              "      <td>NaN</td>\n",
              "      <td>22.0</td>\n",
              "    </tr>\n",
              "  </tbody>\n",
              "</table>\n",
              "</div>"
            ],
            "text/plain": [
              "     word  count  rank_diff  rank_rule\n",
              "0       –   42.0       22.0       10.0\n",
              "1    моих   10.0        NaN      129.0\n",
              "2    свои   14.0        NaN       71.0\n",
              "3  понять   11.0        NaN      101.0\n",
              "4  любовь   25.0        NaN       22.0"
            ]
          },
          "metadata": {
            "tags": []
          },
          "execution_count": 223
        }
      ]
    },
    {
      "cell_type": "code",
      "metadata": {
        "id": "XeWJpQ79ap9X"
      },
      "source": [
        "ranks_total = ranks_total.assign(log_count=np.log(ranks_total.loc[:, 'count']))"
      ],
      "execution_count": 224,
      "outputs": []
    },
    {
      "cell_type": "code",
      "metadata": {
        "colab": {
          "base_uri": "https://localhost:8080/",
          "height": 749
        },
        "id": "X_I34jwGaua-",
        "outputId": "f53c8a9d-9ce0-4676-f5cf-51151e7475e1"
      },
      "source": [
        "plt.figure(figsize=(20, 10))\r\n",
        "\r\n",
        "plt.subplot(1, 2, 1)\r\n",
        "plt.title('Дифференциальный подход')\r\n",
        "sns.regplot(x='rank_diff', y='count', data=ranks_total)\r\n",
        "\r\n",
        "plt.subplot(1, 2, 2)\r\n",
        "plt.title('Правиловый подход')\r\n",
        "sns.regplot(x='rank_rule', y='count', data=ranks_total)\r\n",
        "\r\n",
        "plt.tight_layout()\r\n",
        "plt.show()"
      ],
      "execution_count": 226,
      "outputs": [
        {
          "output_type": "display_data",
          "data": {
            "image/png": "[encoded data removed]",
            "text/plain": [
              "<Figure size 1440x720 with 2 Axes>"
            ]
          },
          "metadata": {
            "tags": [],
            "needs_background": "light"
          }
        }
      ]
    },
    {
      "cell_type": "code",
      "metadata": {
        "colab": {
          "base_uri": "https://localhost:8080/",
          "height": 636
        },
        "id": "vj7HLnwsbIoD",
        "outputId": "19597f9b-8a42-44ee-f2d7-850e63778a02"
      },
      "source": [
        "plt.figure(figsize=(20, 10))\r\n",
        "\r\n",
        "plt.subplot(1, 2, 1)\r\n",
        "plt.title('Дифференциальный подход, лог шкала')\r\n",
        "sns.regplot(x='rank_diff', y='log_count', data=ranks_total)\r\n",
        "\r\n",
        "plt.subplot(1, 2, 2)\r\n",
        "plt.title('Правиловый подход, лог шкала')\r\n",
        "sns.regplot(x='rank_rule', y='log_count', data=ranks_total)\r\n",
        "\r\n",
        "plt.tight_layout()\r\n",
        "plt.show()"
      ],
      "execution_count": 227,
      "outputs": [
        {
          "output_type": "display_data",
          "data": {
            "image/png": "[encoded data removed]",
            "text/plain": [
              "<Figure size 1440x720 with 2 Axes>"
            ]
          },
          "metadata": {
            "tags": [],
            "needs_background": "light"
          }
        }
      ]
    },
    {
      "cell_type": "code",
      "metadata": {
        "colab": {
          "base_uri": "https://localhost:8080/",
          "height": 17,
          "referenced_widgets": [
            "c771465584d04e47b426b39d08f6d989",
            "d41a0bc7ed5841fe96230ab84f9dd605",
            "8e9c67b9c3724eecaf93bc30ecc4d199",
            "b274f357d44c4c2c9609d5dfc2c6b861",
            "599bf6fb5116406a9c747db176f80c36",
            "d7edd90267ec43f38a2ebfb1be630449",
            "84026e24b0cd4f48bcdf3a538820f05a",
            "0378f3f8eb264733aeb5363415056c94"
          ]
        },
        "id": "_G11KwrJbdMP",
        "outputId": "6a884e92-cac6-4be3-bade-f7d43e994199"
      },
      "source": [
        "text_matrix = pd.DataFrame(columns=['song', 'artist', 'text'])\r\n",
        "\r\n",
        "i = 0\r\n",
        "for artist in tqdm(library, leave=False, total=len(library.artists)):\r\n",
        "  for song in artist.songs:\r\n",
        "    for _, verse in song.text.items():\r\n",
        "      text_matrix.loc[i, 'song'] = song.name\r\n",
        "      text_matrix.loc[i, 'artist'] = artist.name\r\n",
        "      text_matrix.loc[i, 'text'] = verse.text\r\n",
        "      i += 1"
      ],
      "execution_count": 228,
      "outputs": [
        {
          "output_type": "display_data",
          "data": {
            "application/vnd.jupyter.widget-view+json": {
              "model_id": "c771465584d04e47b426b39d08f6d989",
              "version_minor": 0,
              "version_major": 2
            },
            "text/plain": [
              "HBox(children=(FloatProgress(value=0.0, max=57.0), HTML(value='')))"
            ]
          },
          "metadata": {
            "tags": []
          }
        }
      ]
    },
    {
      "cell_type": "code",
      "metadata": {
        "colab": {
          "base_uri": "https://localhost:8080/",
          "height": 204
        },
        "id": "ngEHW6E5bmyT",
        "outputId": "d6871954-9db2-41b5-874c-3685ed62296b"
      },
      "source": [
        "text_matrix.head()"
      ],
      "execution_count": 229,
      "outputs": [
        {
          "output_type": "execute_result",
          "data": {
            "text/html": [
              "<div>\n",
              "<style scoped>\n",
              "    .dataframe tbody tr th:only-of-type {\n",
              "        vertical-align: middle;\n",
              "    }\n",
              "\n",
              "    .dataframe tbody tr th {\n",
              "        vertical-align: top;\n",
              "    }\n",
              "\n",
              "    .dataframe thead th {\n",
              "        text-align: right;\n",
              "    }\n",
              "</style>\n",
              "<table border=\"1\" class=\"dataframe\">\n",
              "  <thead>\n",
              "    <tr style=\"text-align: right;\">\n",
              "      <th></th>\n",
              "      <th>song</th>\n",
              "      <th>artist</th>\n",
              "      <th>text</th>\n",
              "    </tr>\n",
              "  </thead>\n",
              "  <tbody>\n",
              "    <tr>\n",
              "      <th>0</th>\n",
              "      <td>Вахтерам (Vahteram)</td>\n",
              "      <td>Бумбокс</td>\n",
              "      <td>\\nТебе не нравится дым и чёрт с ним\\nОн убивае...</td>\n",
              "    </tr>\n",
              "    <tr>\n",
              "      <th>1</th>\n",
              "      <td>Вахтерам (Vahteram)</td>\n",
              "      <td>Бумбокс</td>\n",
              "      <td>\\nБелые обои, чёрную посуду\\nНас в хрущёвке дв...</td>\n",
              "    </tr>\n",
              "    <tr>\n",
              "      <th>2</th>\n",
              "      <td>Вахтерам (Vahteram)</td>\n",
              "      <td>Бумбокс</td>\n",
              "      <td>\\nДавай вот так просидим до утра\\nНе уходи, по...</td>\n",
              "    </tr>\n",
              "    <tr>\n",
              "      <th>3</th>\n",
              "      <td>Та4то (Ta4to)</td>\n",
              "      <td>Бумбокс</td>\n",
              "      <td>\\nТа что была со мной, где ты теперь\\nНа друго...</td>\n",
              "    </tr>\n",
              "    <tr>\n",
              "      <th>4</th>\n",
              "      <td>Та4то (Ta4to)</td>\n",
              "      <td>Бумбокс</td>\n",
              "      <td>\\nЗнать бы хотя бы где ты, с кем ты\\nТепло ли ...</td>\n",
              "    </tr>\n",
              "  </tbody>\n",
              "</table>\n",
              "</div>"
            ],
            "text/plain": [
              "                  song  ...                                               text\n",
              "0  Вахтерам (Vahteram)  ...  \\nТебе не нравится дым и чёрт с ним\\nОн убивае...\n",
              "1  Вахтерам (Vahteram)  ...  \\nБелые обои, чёрную посуду\\nНас в хрущёвке дв...\n",
              "2  Вахтерам (Vahteram)  ...  \\nДавай вот так просидим до утра\\nНе уходи, по...\n",
              "3        Та4то (Ta4to)  ...  \\nТа что была со мной, где ты теперь\\nНа друго...\n",
              "4        Та4то (Ta4to)  ...  \\nЗнать бы хотя бы где ты, с кем ты\\nТепло ли ...\n",
              "\n",
              "[5 rows x 3 columns]"
            ]
          },
          "metadata": {
            "tags": []
          },
          "execution_count": 229
        }
      ]
    },
    {
      "cell_type": "code",
      "metadata": {
        "colab": {
          "base_uri": "https://localhost:8080/"
        },
        "id": "XwT3PUlQbyry",
        "outputId": "546a7238-9bff-4d50-b4c2-a21ac1237d28"
      },
      "source": [
        "vocabulary = [word for (word, count) in words_filtered_rule]\r\n",
        "n, m = len(text_matrix), len(vocabulary)\r\n",
        "# Начнем с обычных счетчиков\r\n",
        "tdm = np.zeros(shape=(n, m))\r\n",
        "for i, text in enumerate(text_matrix.text):\r\n",
        "  for token in tokenize_text(text):\r\n",
        "    if token in vocabulary:\r\n",
        "      j = vocabulary.index(token)\r\n",
        "      tdm[i, j] += 1\r\n",
        "tf = tdm / tdm.sum(axis=1).reshape(-1, 1)\r\n",
        "tf.sum(axis=1)[:10]"
      ],
      "execution_count": 231,
      "outputs": [
        {
          "output_type": "execute_result",
          "data": {
            "text/plain": [
              "array([1., 1., 1., 1., 1., 1., 1., 1., 1., 1.])"
            ]
          },
          "metadata": {
            "tags": []
          },
          "execution_count": 231
        }
      ]
    },
    {
      "cell_type": "code",
      "metadata": {
        "colab": {
          "base_uri": "https://localhost:8080/"
        },
        "id": "YCF0VwvSbz-c",
        "outputId": "b09aed87-93f0-4846-f4df-e7d3567c0525"
      },
      "source": [
        "idf = np.log(n / (tdm > 0).sum(axis=0))\r\n",
        "# Обновим словарь\r\n",
        "for i, text in enumerate(text_matrix.text):\r\n",
        "  tokens = tokenize_text(text)\r\n",
        "\r\n",
        "  for ngram in ngrams(tokens, n=2):\r\n",
        "    if all([token in vocabulary for token in ngram]) and ngram not in vocabulary:\r\n",
        "      vocabulary.append(ngram)\r\n",
        "  \r\n",
        "  for ngram in ngrams(tokens, n=3):\r\n",
        "    if all([token in vocabulary for token in ngram]) and ngram not in vocabulary:\r\n",
        "      vocabulary.append(ngram)\r\n",
        "len(vocabulary)"
      ],
      "execution_count": 235,
      "outputs": [
        {
          "output_type": "execute_result",
          "data": {
            "text/plain": [
              "334"
            ]
          },
          "metadata": {
            "tags": []
          },
          "execution_count": 235
        }
      ]
    },
    {
      "cell_type": "code",
      "metadata": {
        "id": "39WHEXhydFhK"
      },
      "source": [
        "n, m = len(text_matrix), len(vocabulary)\r\n",
        "\r\n",
        "tdm = np.zeros(shape=(n, m))\r\n",
        "for i, text in enumerate(text_matrix.text):\r\n",
        "  tokens = [token.lower() for token in tokenize_text(text)]\r\n",
        "\r\n",
        "  for token in tokens:\r\n",
        "    if token in vocabulary:\r\n",
        "      j = vocabulary.index(token)\r\n",
        "      tdm[i, j] += 1\r\n",
        "  \r\n",
        "  for token in ngrams(tokens, n=2):\r\n",
        "    if token in vocabulary:\r\n",
        "      j = vocabulary.index(token)\r\n",
        "      tdm[i, j] += 1\r\n",
        "\r\n",
        "  for token in ngrams(tokens, n=3):\r\n",
        "    if token in vocabulary:\r\n",
        "      j = vocabulary.index(token)\r\n",
        "      tdm[i, j] += 1\r\n",
        "\r\n",
        "# Отфильтруем пустые документы\r\n",
        "text_matrix = text_matrix.loc[tdm.sum(axis=1) > 0].reset_index(drop=True)\r\n",
        "tdm = tdm[tdm.sum(axis=1) > 0]\r\n",
        "\r\n",
        "# И пустые слова\r\n",
        "tdm = tdm[:, tdm.sum(axis=0) > 0]\r\n",
        "\r\n",
        "tf = tdm / tdm.sum(axis=1).reshape(-1, 1)\r\n",
        "idf = np.log(n / (tdm > 0).sum(axis=0))\r\n",
        "\r\n",
        "tf_idf = (tf.T * idf.reshape(-1, 1)).T"
      ],
      "execution_count": 236,
      "outputs": []
    },
    {
      "cell_type": "code",
      "metadata": {
        "colab": {
          "base_uri": "https://localhost:8080/"
        },
        "id": "xesGrZUrdIJu",
        "outputId": "4065ac92-04ab-4752-8f9a-c41c28c7b2b4"
      },
      "source": [
        "tf_idf.shape"
      ],
      "execution_count": 237,
      "outputs": [
        {
          "output_type": "execute_result",
          "data": {
            "text/plain": [
              "(592, 334)"
            ]
          },
          "metadata": {
            "tags": []
          },
          "execution_count": 237
        }
      ]
    },
    {
      "cell_type": "code",
      "metadata": {
        "colab": {
          "base_uri": "https://localhost:8080/",
          "height": 204
        },
        "id": "V5fHtOEwdPry",
        "outputId": "ba4bb6ac-71b4-478b-8d42-1aedf6bbb71b"
      },
      "source": [
        "#для применения наивного Байессовского метода нужно закодировать исполнителей цифрами\r\n",
        "artist2idx = {artist: idx for idx, artist in enumerate(text_matrix.artist.unique())}\r\n",
        "idx2artist = {idx: artist for artist, idx in artist2idx.items()}\r\n",
        "text_matrix.artist = text_matrix.artist.replace(artist2idx)\r\n",
        "text_matrix.head()"
      ],
      "execution_count": 240,
      "outputs": [
        {
          "output_type": "execute_result",
          "data": {
            "text/html": [
              "<div>\n",
              "<style scoped>\n",
              "    .dataframe tbody tr th:only-of-type {\n",
              "        vertical-align: middle;\n",
              "    }\n",
              "\n",
              "    .dataframe tbody tr th {\n",
              "        vertical-align: top;\n",
              "    }\n",
              "\n",
              "    .dataframe thead th {\n",
              "        text-align: right;\n",
              "    }\n",
              "</style>\n",
              "<table border=\"1\" class=\"dataframe\">\n",
              "  <thead>\n",
              "    <tr style=\"text-align: right;\">\n",
              "      <th></th>\n",
              "      <th>song</th>\n",
              "      <th>artist</th>\n",
              "      <th>text</th>\n",
              "    </tr>\n",
              "  </thead>\n",
              "  <tbody>\n",
              "    <tr>\n",
              "      <th>0</th>\n",
              "      <td>Вахтерам (Vahteram)</td>\n",
              "      <td>0</td>\n",
              "      <td>\\nТебе не нравится дым и чёрт с ним\\nОн убивае...</td>\n",
              "    </tr>\n",
              "    <tr>\n",
              "      <th>1</th>\n",
              "      <td>Вахтерам (Vahteram)</td>\n",
              "      <td>0</td>\n",
              "      <td>\\nБелые обои, чёрную посуду\\nНас в хрущёвке дв...</td>\n",
              "    </tr>\n",
              "    <tr>\n",
              "      <th>2</th>\n",
              "      <td>Вахтерам (Vahteram)</td>\n",
              "      <td>0</td>\n",
              "      <td>\\nДавай вот так просидим до утра\\nНе уходи, по...</td>\n",
              "    </tr>\n",
              "    <tr>\n",
              "      <th>3</th>\n",
              "      <td>Та4то (Ta4to)</td>\n",
              "      <td>0</td>\n",
              "      <td>\\nТа что была со мной, где ты теперь\\nНа друго...</td>\n",
              "    </tr>\n",
              "    <tr>\n",
              "      <th>4</th>\n",
              "      <td>Та4то (Ta4to)</td>\n",
              "      <td>0</td>\n",
              "      <td>\\nЗнать бы хотя бы где ты, с кем ты\\nТепло ли ...</td>\n",
              "    </tr>\n",
              "  </tbody>\n",
              "</table>\n",
              "</div>"
            ],
            "text/plain": [
              "                  song  ...                                               text\n",
              "0  Вахтерам (Vahteram)  ...  \\nТебе не нравится дым и чёрт с ним\\nОн убивае...\n",
              "1  Вахтерам (Vahteram)  ...  \\nБелые обои, чёрную посуду\\nНас в хрущёвке дв...\n",
              "2  Вахтерам (Vahteram)  ...  \\nДавай вот так просидим до утра\\nНе уходи, по...\n",
              "3        Та4то (Ta4to)  ...  \\nТа что была со мной, где ты теперь\\nНа друго...\n",
              "4        Та4то (Ta4to)  ...  \\nЗнать бы хотя бы где ты, с кем ты\\nТепло ли ...\n",
              "\n",
              "[5 rows x 3 columns]"
            ]
          },
          "metadata": {
            "tags": []
          },
          "execution_count": 240
        }
      ]
    },
    {
      "cell_type": "code",
      "metadata": {
        "id": "jsNtn_JheVfb"
      },
      "source": [
        "#оценка работы глупого классификатора\r\n",
        "scores_dummy = []\r\n",
        "cv = GroupKFold(n_splits=5)\r\n",
        "for train_index, test_index in cv.split(X=tf_idf, y=text_matrix.artist, groups=text_matrix.song):\r\n",
        "  X_train, X_test = tf_idf[train_index], tf_idf[test_index]\r\n",
        "  y_train, y_test = text_matrix.artist.iloc[train_index], text_matrix.artist.iloc[test_index]\r\n",
        "\r\n",
        "  dummy = DummyClassifier(strategy='most_frequent', random_state=42)\r\n",
        "  dummy.fit(X_train, y_train)\r\n",
        "\r\n",
        "  y_pred = dummy.predict(X_test)\r\n",
        "  scores_dummy.append(accuracy_score(y_test, y_pred))"
      ],
      "execution_count": 241,
      "outputs": []
    },
    {
      "cell_type": "code",
      "metadata": {
        "id": "aqyHr7IJekWH"
      },
      "source": [
        "#наивный байесовский классификатор\r\n",
        "scores_nb = []\r\n",
        "cv = GroupKFold(n_splits=5)\r\n",
        "for train_index, test_index in cv.split(X=tf_idf, y=text_matrix.artist, groups=text_matrix.song):\r\n",
        "  X_train, X_test = tf_idf[train_index], tf_idf[test_index]\r\n",
        "  y_train, y_test = text_matrix.artist.iloc[train_index], text_matrix.artist.iloc[test_index]\r\n",
        "\r\n",
        "  nb = GaussianNB()\r\n",
        "  nb.fit(X_train, y_train)\r\n",
        "\r\n",
        "  y_pred = nb.predict(X_test)\r\n",
        "  scores_nb.append(accuracy_score(y_test, y_pred))"
      ],
      "execution_count": 242,
      "outputs": []
    },
    {
      "cell_type": "code",
      "metadata": {
        "colab": {
          "base_uri": "https://localhost:8080/",
          "height": 636
        },
        "id": "n-hcHIH0erfw",
        "outputId": "cc5c7789-dba5-43a4-d921-3aa8677d4ff3"
      },
      "source": [
        "plt.figure(figsize=(20, 10))\r\n",
        "\r\n",
        "plt.subplot(1, 2, 1)\r\n",
        "plt.title('Предсказание наиболее частым')\r\n",
        "plt.bar(x=range(5), height=scores_dummy)\r\n",
        "plt.ylabel('Точность')\r\n",
        "plt.xlabel('Номер разбиения')\r\n",
        "plt.ylim(0, 1)\r\n",
        "plt.grid()\r\n",
        "\r\n",
        "plt.subplot(1, 2, 2)\r\n",
        "plt.title('Наивный Байес')\r\n",
        "plt.bar(x=range(5), height=scores_nb)\r\n",
        "plt.ylabel('Точность')\r\n",
        "plt.xlabel('Номер разбиения')\r\n",
        "plt.ylim(0, 1)\r\n",
        "plt.grid()\r\n",
        "\r\n",
        "plt.tight_layout()\r\n",
        "plt.show()"
      ],
      "execution_count": 243,
      "outputs": [
        {
          "output_type": "display_data",
          "data": {
            "image/png": "[encoded data removed]",
            "text/plain": [
              "<Figure size 1440x720 with 2 Axes>"
            ]
          },
          "metadata": {
            "tags": [],
            "needs_background": "light"
          }
        }
      ]
    },
    {
      "cell_type": "markdown",
      "metadata": {
        "id": "3ej_fcoTfLwg"
      },
      "source": [
        "Отфильтрую из данных всех, кроме начальных исполнителей"
      ]
    },
    {
      "cell_type": "code",
      "metadata": {
        "colab": {
          "base_uri": "https://localhost:8080/",
          "height": 316
        },
        "id": "cPsq6T4QfLSy",
        "outputId": "37300321-dba3-43e2-e885-e3ceeace3c28"
      },
      "source": [
        "queries = [  \r\n",
        "           'Бумбокс',\r\n",
        "           'Город 312',\r\n",
        "           'Звери',\r\n",
        "           'Би-2',\r\n",
        "           'Чичерина',\r\n",
        "           'МакSим']\r\n",
        "queries = [query.lower() for query in queries]\r\n",
        "artist2idx = {artist.lower(): idx for artist, idx in artist2idx.items()}\r\n",
        "used_artists = [artist2idx[artist] for artist in queries]"
      ],
      "execution_count": 245,
      "outputs": [
        {
          "output_type": "error",
          "ename": "AttributeError",
          "evalue": "ignored",
          "traceback": [
            "\u001b[0;31m---------------------------------------------------------------------------\u001b[0m",
            "\u001b[0;31mAttributeError\u001b[0m                            Traceback (most recent call last)",
            "\u001b[0;32m<ipython-input-245-a3ac929f6e69>\u001b[0m in \u001b[0;36m<module>\u001b[0;34m()\u001b[0m\n\u001b[1;32m      7\u001b[0m            'МакSим']\n\u001b[1;32m      8\u001b[0m \u001b[0mqueries\u001b[0m \u001b[0;34m=\u001b[0m \u001b[0;34m[\u001b[0m\u001b[0mquery\u001b[0m\u001b[0;34m.\u001b[0m\u001b[0mlower\u001b[0m\u001b[0;34m(\u001b[0m\u001b[0;34m)\u001b[0m \u001b[0;32mfor\u001b[0m \u001b[0mquery\u001b[0m \u001b[0;32min\u001b[0m \u001b[0mqueries\u001b[0m\u001b[0;34m]\u001b[0m\u001b[0;34m\u001b[0m\u001b[0;34m\u001b[0m\u001b[0m\n\u001b[0;32m----> 9\u001b[0;31m \u001b[0martist2idx\u001b[0m \u001b[0;34m=\u001b[0m \u001b[0;34m{\u001b[0m\u001b[0martist\u001b[0m\u001b[0;34m.\u001b[0m\u001b[0mlower\u001b[0m\u001b[0;34m(\u001b[0m\u001b[0;34m)\u001b[0m\u001b[0;34m:\u001b[0m \u001b[0midx\u001b[0m \u001b[0;32mfor\u001b[0m \u001b[0martist\u001b[0m\u001b[0;34m,\u001b[0m \u001b[0midx\u001b[0m \u001b[0;32min\u001b[0m \u001b[0martist2idx\u001b[0m\u001b[0;34m.\u001b[0m\u001b[0mitems\u001b[0m\u001b[0;34m(\u001b[0m\u001b[0;34m)\u001b[0m\u001b[0;34m}\u001b[0m\u001b[0;34m\u001b[0m\u001b[0;34m\u001b[0m\u001b[0m\n\u001b[0m\u001b[1;32m     10\u001b[0m \u001b[0mused_artists\u001b[0m \u001b[0;34m=\u001b[0m \u001b[0;34m[\u001b[0m\u001b[0martist2idx\u001b[0m\u001b[0;34m[\u001b[0m\u001b[0martist\u001b[0m\u001b[0;34m]\u001b[0m \u001b[0;32mfor\u001b[0m \u001b[0martist\u001b[0m \u001b[0;32min\u001b[0m \u001b[0mqueries\u001b[0m\u001b[0;34m]\u001b[0m\u001b[0;34m\u001b[0m\u001b[0;34m\u001b[0m\u001b[0m\n",
            "\u001b[0;32m<ipython-input-245-a3ac929f6e69>\u001b[0m in \u001b[0;36m<dictcomp>\u001b[0;34m(.0)\u001b[0m\n\u001b[1;32m      7\u001b[0m            'МакSим']\n\u001b[1;32m      8\u001b[0m \u001b[0mqueries\u001b[0m \u001b[0;34m=\u001b[0m \u001b[0;34m[\u001b[0m\u001b[0mquery\u001b[0m\u001b[0;34m.\u001b[0m\u001b[0mlower\u001b[0m\u001b[0;34m(\u001b[0m\u001b[0;34m)\u001b[0m \u001b[0;32mfor\u001b[0m \u001b[0mquery\u001b[0m \u001b[0;32min\u001b[0m \u001b[0mqueries\u001b[0m\u001b[0;34m]\u001b[0m\u001b[0;34m\u001b[0m\u001b[0;34m\u001b[0m\u001b[0m\n\u001b[0;32m----> 9\u001b[0;31m \u001b[0martist2idx\u001b[0m \u001b[0;34m=\u001b[0m \u001b[0;34m{\u001b[0m\u001b[0martist\u001b[0m\u001b[0;34m.\u001b[0m\u001b[0mlower\u001b[0m\u001b[0;34m(\u001b[0m\u001b[0;34m)\u001b[0m\u001b[0;34m:\u001b[0m \u001b[0midx\u001b[0m \u001b[0;32mfor\u001b[0m \u001b[0martist\u001b[0m\u001b[0;34m,\u001b[0m \u001b[0midx\u001b[0m \u001b[0;32min\u001b[0m \u001b[0martist2idx\u001b[0m\u001b[0;34m.\u001b[0m\u001b[0mitems\u001b[0m\u001b[0;34m(\u001b[0m\u001b[0;34m)\u001b[0m\u001b[0;34m}\u001b[0m\u001b[0;34m\u001b[0m\u001b[0;34m\u001b[0m\u001b[0m\n\u001b[0m\u001b[1;32m     10\u001b[0m \u001b[0mused_artists\u001b[0m \u001b[0;34m=\u001b[0m \u001b[0;34m[\u001b[0m\u001b[0martist2idx\u001b[0m\u001b[0;34m[\u001b[0m\u001b[0martist\u001b[0m\u001b[0;34m]\u001b[0m \u001b[0;32mfor\u001b[0m \u001b[0martist\u001b[0m \u001b[0;32min\u001b[0m \u001b[0mqueries\u001b[0m\u001b[0;34m]\u001b[0m\u001b[0;34m\u001b[0m\u001b[0;34m\u001b[0m\u001b[0m\n",
            "\u001b[0;31mAttributeError\u001b[0m: 'numpy.int64' object has no attribute 'lower'"
          ]
        }
      ]
    },
    {
      "cell_type": "code",
      "metadata": {
        "colab": {
          "base_uri": "https://localhost:8080/",
          "height": 214
        },
        "id": "q6Jlwihkf0KH",
        "outputId": "c1b7d9da-1167-4162-b133-f9c48bf101c3"
      },
      "source": [
        "text_matrix = text_matrix.loc[text_matrix.artist.isin(used_artists)]\r\n",
        "\r\n",
        "idx = text_matrix.index\r\n",
        "tf_idf = tf_idf[idx]"
      ],
      "execution_count": 246,
      "outputs": [
        {
          "output_type": "error",
          "ename": "NameError",
          "evalue": "ignored",
          "traceback": [
            "\u001b[0;31m---------------------------------------------------------------------------\u001b[0m",
            "\u001b[0;31mNameError\u001b[0m                                 Traceback (most recent call last)",
            "\u001b[0;32m<ipython-input-246-6321cdb8778b>\u001b[0m in \u001b[0;36m<module>\u001b[0;34m()\u001b[0m\n\u001b[0;32m----> 1\u001b[0;31m \u001b[0mtext_matrix\u001b[0m \u001b[0;34m=\u001b[0m \u001b[0mtext_matrix\u001b[0m\u001b[0;34m.\u001b[0m\u001b[0mloc\u001b[0m\u001b[0;34m[\u001b[0m\u001b[0mtext_matrix\u001b[0m\u001b[0;34m.\u001b[0m\u001b[0martist\u001b[0m\u001b[0;34m.\u001b[0m\u001b[0misin\u001b[0m\u001b[0;34m(\u001b[0m\u001b[0mused_artists\u001b[0m\u001b[0;34m)\u001b[0m\u001b[0;34m]\u001b[0m\u001b[0;34m\u001b[0m\u001b[0;34m\u001b[0m\u001b[0m\n\u001b[0m\u001b[1;32m      2\u001b[0m \u001b[0;34m\u001b[0m\u001b[0m\n\u001b[1;32m      3\u001b[0m \u001b[0midx\u001b[0m \u001b[0;34m=\u001b[0m \u001b[0mtext_matrix\u001b[0m\u001b[0;34m.\u001b[0m\u001b[0mindex\u001b[0m\u001b[0;34m\u001b[0m\u001b[0;34m\u001b[0m\u001b[0m\n\u001b[1;32m      4\u001b[0m \u001b[0mtf_idf\u001b[0m \u001b[0;34m=\u001b[0m \u001b[0mtf_idf\u001b[0m\u001b[0;34m[\u001b[0m\u001b[0midx\u001b[0m\u001b[0;34m]\u001b[0m\u001b[0;34m\u001b[0m\u001b[0;34m\u001b[0m\u001b[0m\n",
            "\u001b[0;31mNameError\u001b[0m: name 'used_artists' is not defined"
          ]
        }
      ]
    },
    {
      "cell_type": "code",
      "metadata": {
        "id": "3u6IoVuWf2NZ"
      },
      "source": [
        "#результат после фильтрации\r\n",
        "scores_dummy = []\r\n",
        "cv = GroupKFold(n_splits=5)\r\n",
        "for train_index, test_index in cv.split(X=tf_idf, y=text_matrix.artist, groups=text_matrix.song):\r\n",
        "  X_train, X_test = tf_idf[train_index], tf_idf[test_index]\r\n",
        "  y_train, y_test = text_matrix.artist.iloc[train_index], text_matrix.artist.iloc[test_index]\r\n",
        "\r\n",
        "  dummy = DummyClassifier(strategy='most_frequent', random_state=42)\r\n",
        "  dummy.fit(X_train, y_train)\r\n",
        "\r\n",
        "  y_pred = dummy.predict(X_test)\r\n",
        "  scores_dummy.append(accuracy_score(y_test, y_pred))\r\n",
        "\r\n",
        "scores_nb = []\r\n",
        "cv = GroupKFold(n_splits=5)\r\n",
        "for train_index, test_index in cv.split(X=tf_idf, y=text_matrix.artist, groups=text_matrix.song):\r\n",
        "  X_train, X_test = tf_idf[train_index], tf_idf[test_index]\r\n",
        "  y_train, y_test = text_matrix.artist.iloc[train_index], text_matrix.artist.iloc[test_index]\r\n",
        "\r\n",
        "  nb = GaussianNB()\r\n",
        "  nb.fit(X_train, y_train)\r\n",
        "\r\n",
        "  y_pred = nb.predict(X_test)\r\n",
        "  scores_nb.append(accuracy_score(y_test, y_pred))"
      ],
      "execution_count": 247,
      "outputs": []
    },
    {
      "cell_type": "code",
      "metadata": {
        "colab": {
          "base_uri": "https://localhost:8080/",
          "height": 636
        },
        "id": "pWG77udBgK_K",
        "outputId": "2b62af33-3611-40ad-c8c8-336cdf90ba94"
      },
      "source": [
        "plt.figure(figsize=(20, 10))\r\n",
        "\r\n",
        "plt.subplot(1, 2, 1)\r\n",
        "plt.title('Предсказание наиболее частым')\r\n",
        "plt.bar(x=range(5), height=scores_dummy)\r\n",
        "plt.ylabel('Точность')\r\n",
        "plt.xlabel('Номер разбиения')\r\n",
        "plt.ylim(0, 1)\r\n",
        "plt.grid()\r\n",
        "\r\n",
        "plt.subplot(1, 2, 2)\r\n",
        "plt.title('Наивный Байес')\r\n",
        "plt.bar(x=range(5), height=scores_nb)\r\n",
        "plt.ylabel('Точность')\r\n",
        "plt.xlabel('Номер разбиения')\r\n",
        "plt.ylim(0, 1)\r\n",
        "plt.grid()\r\n",
        "\r\n",
        "plt.tight_layout()\r\n",
        "plt.show()"
      ],
      "execution_count": 248,
      "outputs": [
        {
          "output_type": "display_data",
          "data": {
            "image/png": "[encoded data removed]",
            "text/plain": [
              "<Figure size 1440x720 with 2 Axes>"
            ]
          },
          "metadata": {
            "tags": [],
            "needs_background": "light"
          }
        }
      ]
    }
  ]
}